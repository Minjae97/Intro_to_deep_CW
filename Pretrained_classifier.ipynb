{
 "cells": [
  {
   "cell_type": "markdown",
   "metadata": {},
   "source": [
    "# 한번 예시 해보기"
   ]
  },
  {
   "cell_type": "code",
   "execution_count": 63,
   "metadata": {},
   "outputs": [],
   "source": [
    "from tensorflow.keras.datasets import fashion_mnist\n",
    "import numpy as np\n",
    "import tensorflow.keras as keras\n",
    "from matplotlib import pyplot as plt\n",
    "from tensorflow.keras.layers import Input,Dense,Flatten,Dropout,Reshape,Conv2D,MaxPooling2D,UpSampling2D,Conv2DTranspose\n",
    "from tensorflow.keras.models import Model\n",
    "from tensorflow.keras.optimizers import RMSprop, Adam\n",
    "from tensorflow.keras.callbacks import EarlyStopping, LearningRateScheduler\n",
    "from sklearn.model_selection import GridSearchCV\n",
    "from tensorflow.keras.wrappers.scikit_learn import KerasClassifier\n",
    "from tensorflow.keras.models import Sequential\n",
    "from tensorflow.keras.utils import to_categorical\n",
    "from tensorflow.keras.layers import BatchNormalization\n",
    "from tensorflow.keras.models import load_model\n",
    "%matplotlib inline"
   ]
  },
  {
   "cell_type": "code",
   "execution_count": 253,
   "metadata": {},
   "outputs": [],
   "source": [
    "#load fashion_mnist dataset from keras \n",
    "(x_train_combined,y_train_combined), (x_test_combined,y_test_combined) = fashion_mnist.load_data()"
   ]
  },
  {
   "cell_type": "code",
   "execution_count": 254,
   "metadata": {},
   "outputs": [
    {
     "name": "stdout",
     "output_type": "stream",
     "text": [
      "Training data shape :  (60000, 28, 28) (60000,)\n",
      "Testing data shape :  (10000, 28, 28) (10000,)\n"
     ]
    }
   ],
   "source": [
    "print('Training data shape : ', x_train_combined.shape, y_train_combined.shape)\n",
    "print('Testing data shape : ', x_test_combined.shape, y_test_combined.shape)"
   ]
  },
  {
   "cell_type": "code",
   "execution_count": 255,
   "metadata": {},
   "outputs": [
    {
     "data": {
      "text/plain": [
       "Text(0.5, 1.0, 'Ground Truth : 9')"
      ]
     },
     "execution_count": 255,
     "metadata": {},
     "output_type": "execute_result"
    },
    {
     "data": {
      "image/png": "[encoded data removed]",
      "text/plain": [
       "<Figure size 360x360 with 2 Axes>"
      ]
     },
     "metadata": {
      "needs_background": "light"
     },
     "output_type": "display_data"
    }
   ],
   "source": [
    "plt.figure(figsize=[5,5])\n",
    "\n",
    "# Display the first image in training data\n",
    "plt.subplot(121)\n",
    "plt.imshow(x_train_combined[0,:,:], cmap='gray')\n",
    "plt.title(\"Ground Truth : {}\".format(y_train_combined[0]))\n",
    "\n",
    "# Display the first image in testing data\n",
    "plt.subplot(122)\n",
    "plt.imshow(x_test_combined[0,:,:], cmap='gray')\n",
    "plt.title(\"Ground Truth : {}\".format(y_test_combined[0]))"
   ]
  },
  {
   "cell_type": "code",
   "execution_count": 256,
   "metadata": {},
   "outputs": [
    {
     "name": "stdout",
     "output_type": "stream",
     "text": [
      "(60000, 28, 28)\n",
      "(10000, 28, 28)\n"
     ]
    }
   ],
   "source": [
    "print(x_train_combined.shape)\n",
    "print(x_test_combined.shape)"
   ]
  },
  {
   "cell_type": "code",
   "execution_count": 257,
   "metadata": {},
   "outputs": [],
   "source": [
    "def filter(xs, ys, lbls):\n",
    "    idxs = [i for (i, y) in enumerate(ys) if y in lbls]\n",
    "    xsprime = np.zeros((len(idxs), xs.shape[1], xs.shape[2]))\n",
    "    for (i, j) in enumerate(idxs):\n",
    "        xsprime[i] = xs[j]\n",
    "    ymap = {}\n",
    "    for (yprime, y) in enumerate(lbls):\n",
    "        ymap[y] = yprime\n",
    "    ysprime = np.array([ymap[y] for y in ys[idxs]])\n",
    "    return xsprime, ysprime\n",
    "\n",
    "fm1lbls = [0, 1, 4, 5, 8]\n",
    "x_train_fm1, y_train_fm1 = filter(x_train_combined, y_train_combined, fm1lbls)\n",
    "x_test_fm1, y_test_fm1 = filter(x_test_combined, y_test_combined, fm1lbls)\n",
    "\n",
    "fm1classes  = fm1lbls\n",
    "fm1nClasses = len(fm1classes)\n",
    "\n",
    "fm2lbls = [2, 3, 6, 7, 9]\n",
    "x_train_fm2, y_train_fm2 = filter(x_train_combined, y_train_combined, fm2lbls)\n",
    "x_test_fm2, y_test_fm2 = filter(x_test_combined, y_test_combined, fm2lbls)\n",
    "\n",
    "fm2classes  = fm2lbls\n",
    "fm2nClasses = len(fm2classes)"
   ]
  },
  {
   "cell_type": "code",
   "execution_count": 258,
   "metadata": {},
   "outputs": [
    {
     "name": "stdout",
     "output_type": "stream",
     "text": [
      "(30000, 28, 28)\n",
      "(5000, 28, 28)\n"
     ]
    }
   ],
   "source": [
    "print(x_train_fm2.shape)\n",
    "print(x_test_fm2.shape)"
   ]
  },
  {
   "cell_type": "code",
   "execution_count": 259,
   "metadata": {},
   "outputs": [
    {
     "data": {
      "text/plain": [
       "(35000, 28, 28)"
      ]
     },
     "execution_count": 259,
     "metadata": {},
     "output_type": "execute_result"
    }
   ],
   "source": [
    "np.concatenate((x_train_fm2, x_test_fm2), axis=0).shape"
   ]
  },
  {
   "cell_type": "code",
   "execution_count": 260,
   "metadata": {},
   "outputs": [],
   "source": [
    "# Convert data type from int8 to float32\n",
    "x_train_fm1 = x_train_fm1.astype('float32')\n",
    "x_test_fm1 = x_test_fm1.astype('float32')\n",
    "\n",
    "x_train_fm2 = x_train_fm2.astype('float32')\n",
    "x_test_fm2 = x_test_fm2.astype('float32')\n",
    "\n",
    "# Normalize the data: rescale the pixel values in range 0 - 1 inclusive for training purposes\n",
    "x_train_fm1 = x_train_fm1 / 255.\n",
    "x_test_fm1 = x_test_fm1 / 255.\n",
    "\n",
    "x_train_fm2 = x_train_fm2 / 255.\n",
    "x_test_fm2 = x_test_fm2 / 255.\n"
   ]
  },
  {
   "cell_type": "code",
   "execution_count": 261,
   "metadata": {},
   "outputs": [],
   "source": [
    "from sklearn.model_selection import train_test_split\n",
    "x_train_fm1,x_valid_fm1,x_train_ground_fm1,x_valid_ground_fm1 = train_test_split(x_train_fm1,\n",
    "                                                             x_train_fm1, \n",
    "                                                             test_size=0.2, \n",
    "                                                             random_state=13)\n",
    "\n",
    "x_train_fm2,x_valid_fm2,x_train_ground_fm2,x_valid_ground_fm2 = train_test_split(x_train_fm2,\n",
    "                                                             x_train_fm2, \n",
    "                                                             test_size=0.2, \n",
    "                                                             random_state=13)"
   ]
  },
  {
   "cell_type": "code",
   "execution_count": 262,
   "metadata": {},
   "outputs": [],
   "source": [
    "x_train_fm1 = x_train_fm1.reshape(-1, 28,28, 1)\n",
    "x_valid_fm1 = x_valid_fm1.reshape(-1, 28,28, 1)\n",
    "\n",
    "x_train_ground_fm1 = x_train_ground_fm1.reshape(-1, 28,28, 1)\n",
    "x_valid_ground_fm1 = x_valid_ground_fm1.reshape(-1, 28,28, 1)\n",
    "\n",
    "x_test_fm1 = x_test_fm1.reshape(-1, 28,28, 1)\n",
    "\n",
    "x_train_fm2 = x_train_fm2.reshape(-1, 28,28, 1)\n",
    "x_valid_fm2 = x_valid_fm2.reshape(-1, 28,28, 1)\n",
    "\n",
    "x_train_ground_fm2 = x_train_ground_fm2.reshape(-1, 28,28, 1)\n",
    "x_valid_ground_fm2 = x_valid_ground_fm2.reshape(-1, 28,28, 1)\n",
    "\n",
    "x_test_fm1 = x_test_fm1.reshape(-1, 28,28, 1)\n",
    "x_test_fm2 = x_test_fm2.reshape(-1, 28,28, 1)"
   ]
  },
  {
   "cell_type": "code",
   "execution_count": 263,
   "metadata": {},
   "outputs": [
    {
     "data": {
      "text/plain": [
       "(35000, 28, 28, 1)"
      ]
     },
     "execution_count": 263,
     "metadata": {},
     "output_type": "execute_result"
    }
   ],
   "source": [
    "# fm2_all_combined = x_train_fm2 + x_valid_fm2 + x_test_fm2\n",
    "fm2_all_combined = np.concatenate((x_train_fm2, x_valid_fm2), axis =0)\n",
    "fm2_all_combined = np.concatenate((fm2_all_combined, x_test_fm2), axis =0)\n",
    "fm2_all_combined.shape"
   ]
  },
  {
   "cell_type": "code",
   "execution_count": 264,
   "metadata": {},
   "outputs": [],
   "source": [
    "x_train_total = np.concatenate((fm2_all_combined, x_train_fm1), axis = 0)"
   ]
  },
  {
   "cell_type": "code",
   "execution_count": 265,
   "metadata": {},
   "outputs": [],
   "source": [
    "x_train_total,x_valid_total,x_train_total_ground,x_valid_total_ground = train_test_split(x_train_total,\n",
    "                                                             x_train_total, \n",
    "                                                             test_size=0.2, \n",
    "                                                             random_state=13)"
   ]
  },
  {
   "cell_type": "code",
   "execution_count": 266,
   "metadata": {},
   "outputs": [],
   "source": [
    "batch_size = 64\n",
    "epochs = 50\n",
    "input_img = Input(shape = (28, 28, 1))\n",
    "learning_rate = 1e-3\n",
    "num_classes = 5"
   ]
  },
  {
   "cell_type": "code",
   "execution_count": 267,
   "metadata": {},
   "outputs": [],
   "source": [
    "# Callback Functions\n",
    "# early_stopping_monitor = EarlyStopping(monitor = 'val_loss', patience=5, verbose=1)\n",
    "early_stopping_monitor = EarlyStopping(monitor='val_loss', patience=5, verbose=1, mode='min', restore_best_weights=True)"
   ]
  },
  {
   "cell_type": "code",
   "execution_count": 268,
   "metadata": {},
   "outputs": [],
   "source": [
    "def encoder(input_img):\n",
    "    #encoder\n",
    "    #input = 28 x 28 x 1 (wide and thin)\n",
    "    conv1 = Conv2D(32, (3, 3), activation='relu', padding='same')(input_img) #28 x 28 x 32\n",
    "    conv1 = BatchNormalization()(conv1)\n",
    "#     conv1 = Conv2D(32, (3, 3), activation='relu', padding='same')(conv1)\n",
    "#     conv1 = BatchNormalization()(conv1)\n",
    "    pool1 = MaxPooling2D(pool_size=(2, 2))(conv1) #14 x 14 x 32\n",
    "    dropout1 = Dropout(0.2)(pool1)\n",
    "    conv2 = Conv2D(64, (3, 3), activation='relu', padding='same')(dropout1) #14 x 14 x 64\n",
    "    conv2 = BatchNormalization()(conv2)\n",
    "#     conv2 = Conv2D(64, (3, 3), activation='relu', padding='same')(conv2)\n",
    "#     conv2 = BatchNormalization()(conv2)\n",
    "    pool2 = MaxPooling2D(pool_size=(2, 2))(conv2) #7 x 7 x 64\n",
    "    dropout2 = Dropout(0.2)(pool2)\n",
    "    conv3 = Conv2D(128, (3, 3), activation='relu', padding='same')(dropout2) #7 x 7 x 128 (small and thick)\n",
    "    conv3 = BatchNormalization()(conv3)\n",
    "#     conv3 = Conv2D(128, (3, 3), activation='relu', padding='same')(conv3)\n",
    "#     conv3 = BatchNormalization()(conv3)\n",
    "    dropout3 = Dropout(0.2)(conv3)\n",
    "    conv4 = Conv2D(256, (3, 3), activation='relu', padding='same')(dropout3) #7 x 7 x 256 (small and thick)\n",
    "    conv4 = BatchNormalization()(conv4)\n",
    "#     conv4 = Conv2D(256, (3, 3), activation='relu', padding='same')(conv4)\n",
    "#     conv4 = BatchNormalization()(conv4)\n",
    "    return conv4\n",
    "\n",
    "def decoder(conv4):    \n",
    "    #decoder\n",
    "    conv5 = Conv2D(128, (3, 3), activation='relu', padding='same')(conv4) #7 x 7 x 128\n",
    "#     conv5 = BatchNormalization()(conv5)\n",
    "#     conv5 = Conv2D(128, (3, 3), activation='relu', padding='same')(conv5)\n",
    "    dropout4 = Dropout(0.2)(conv5)\n",
    "    conv5 = BatchNormalization()(conv5)\n",
    "    conv6 = Conv2D(64, (3, 3), activation='relu', padding='same')(conv5) #7 x 7 x 64\n",
    "#     conv6 = BatchNormalization()(conv6)\n",
    "#     conv6 = Conv2D(64, (3, 3), activation='relu', padding='same')(conv6)\n",
    "    conv6 = BatchNormalization()(conv6)\n",
    "    up1 = UpSampling2D((2,2))(conv6) #14 x 14 x 64\n",
    "    dropout5 = Dropout(0.2)(up1)\n",
    "    conv7 = Conv2D(32, (3, 3), activation='relu', padding='same')(up1) # 14 x 14 x 32\n",
    "    conv7 = BatchNormalization()(conv7)\n",
    "#     conv7 = Conv2D(32, (3, 3), activation='relu', padding='same')(conv7)\n",
    "#     conv7 = BatchNormalization()(conv7)\n",
    "    up2 = UpSampling2D((2,2))(conv7) # 28 x 28 x 32\n",
    "    dropout6 = Dropout(0.2)(up2)\n",
    "    decoded = Conv2D(1, (3, 3), activation='sigmoid', padding='same')(dropout6) # 28 x 28 x 1\n",
    "    return decoded\n"
   ]
  },
  {
   "cell_type": "code",
   "execution_count": 269,
   "metadata": {},
   "outputs": [],
   "source": [
    "def encoder(input_img):\n",
    "    conv1 = Conv2D(32, (3, 3), activation='relu', padding='same')(input_img) #28 x 28 x 32\n",
    "    conv1 = BatchNormalization()(conv1)\n",
    "    pool1 = MaxPooling2D(pool_size=(2, 2))(conv1) #14 x 14 x 32\n",
    "    dropout1 = Dropout(0.2)(pool1)\n",
    "    conv2 = Conv2D(64, (3, 3), activation='relu', padding='same')(dropout1) #14 x 14 x 64\n",
    "    conv2 = BatchNormalization()(conv2)\n",
    "    pool2 = MaxPooling2D(pool_size=(2, 2))(conv2) #7 x 7 x 64\n",
    "    dropout2 = Dropout(0.2)(pool2)\n",
    "    conv3 = Conv2D(128, (3, 3), activation='relu', padding='same')(dropout2) #7 x 7 x 128 (small and thick)\n",
    "    conv3 = BatchNormalization()(conv3)\n",
    "    dropout3 = Dropout(0.2)(conv3)\n",
    "    conv4 = Conv2D(256, (3, 3), activation='relu', padding='same')(dropout3) #7 x 7 x 256 (small and thick)\n",
    "    encoded = BatchNormalization()(conv4)\n",
    "    return encoded\n",
    "\n",
    "def decoder(encoded):    \n",
    "    conv5 = Conv2D(128, (3, 3), activation='relu', padding='same')(encoded) #7 x 7 x 128\n",
    "    dropout4 = Dropout(0.2)(conv5)\n",
    "    conv5 = BatchNormalization()(conv5)\n",
    "    conv6 = Conv2D(64, (3, 3), activation='relu', padding='same')(conv5) #7 x 7 x 64\n",
    "    conv6 = BatchNormalization()(conv6)\n",
    "    up1 = UpSampling2D((2,2))(conv6) #14 x 14 x 64\n",
    "    dropout5 = Dropout(0.2)(up1)\n",
    "    conv7 = Conv2D(32, (3, 3), activation='relu', padding='same')(up1) # 14 x 14 x 32\n",
    "    conv7 = BatchNormalization()(conv7)\n",
    "    up2 = UpSampling2D((2,2))(conv7) # 28 x 28 x 32\n",
    "    dropout6 = Dropout(0.2)(up2)\n",
    "    decoded = Conv2D(1, (3, 3), activation='sigmoid', padding='same')(dropout6) # 28 x 28 x 1\n",
    "    return decoded"
   ]
  },
  {
   "cell_type": "code",
   "execution_count": 270,
   "metadata": {},
   "outputs": [
    {
     "name": "stdout",
     "output_type": "stream",
     "text": [
      "Model: \"model_91\"\n",
      "_________________________________________________________________\n",
      "Layer (type)                 Output Shape              Param #   \n",
      "=================================================================\n",
      "input_3 (InputLayer)         [(None, 28, 28, 1)]       0         \n",
      "_________________________________________________________________\n",
      "conv2d_755 (Conv2D)          (None, 28, 28, 32)        320       \n",
      "_________________________________________________________________\n",
      "batch_normalization_752 (Bat (None, 28, 28, 32)        128       \n",
      "_________________________________________________________________\n",
      "max_pooling2d_187 (MaxPoolin (None, 14, 14, 32)        0         \n",
      "_________________________________________________________________\n",
      "dropout_377 (Dropout)        (None, 14, 14, 32)        0         \n",
      "_________________________________________________________________\n",
      "conv2d_756 (Conv2D)          (None, 14, 14, 64)        18496     \n",
      "_________________________________________________________________\n",
      "batch_normalization_753 (Bat (None, 14, 14, 64)        256       \n",
      "_________________________________________________________________\n",
      "max_pooling2d_188 (MaxPoolin (None, 7, 7, 64)          0         \n",
      "_________________________________________________________________\n",
      "dropout_378 (Dropout)        (None, 7, 7, 64)          0         \n",
      "_________________________________________________________________\n",
      "conv2d_757 (Conv2D)          (None, 7, 7, 128)         73856     \n",
      "_________________________________________________________________\n",
      "batch_normalization_754 (Bat (None, 7, 7, 128)         512       \n",
      "_________________________________________________________________\n",
      "dropout_379 (Dropout)        (None, 7, 7, 128)         0         \n",
      "_________________________________________________________________\n",
      "conv2d_758 (Conv2D)          (None, 7, 7, 256)         295168    \n",
      "_________________________________________________________________\n",
      "batch_normalization_755 (Bat (None, 7, 7, 256)         1024      \n",
      "_________________________________________________________________\n",
      "conv2d_759 (Conv2D)          (None, 7, 7, 128)         295040    \n",
      "_________________________________________________________________\n",
      "batch_normalization_756 (Bat (None, 7, 7, 128)         512       \n",
      "_________________________________________________________________\n",
      "conv2d_760 (Conv2D)          (None, 7, 7, 64)          73792     \n",
      "_________________________________________________________________\n",
      "batch_normalization_757 (Bat (None, 7, 7, 64)          256       \n",
      "_________________________________________________________________\n",
      "up_sampling2d_6 (UpSampling2 (None, 14, 14, 64)        0         \n",
      "_________________________________________________________________\n",
      "conv2d_761 (Conv2D)          (None, 14, 14, 32)        18464     \n",
      "_________________________________________________________________\n",
      "batch_normalization_758 (Bat (None, 14, 14, 32)        128       \n",
      "_________________________________________________________________\n",
      "up_sampling2d_7 (UpSampling2 (None, 28, 28, 32)        0         \n",
      "_________________________________________________________________\n",
      "dropout_382 (Dropout)        (None, 28, 28, 32)        0         \n",
      "_________________________________________________________________\n",
      "conv2d_762 (Conv2D)          (None, 28, 28, 1)         289       \n",
      "=================================================================\n",
      "Total params: 778,241\n",
      "Trainable params: 776,833\n",
      "Non-trainable params: 1,408\n",
      "_________________________________________________________________\n"
     ]
    }
   ],
   "source": [
    "autoencoder = Model(input_img, decoder(encoder(input_img)))\n",
    "autoencoder.compile(loss='mean_squared_error', optimizer = Adam(), metrics=['accuracy'])\n",
    "autoencoder.summary()"
   ]
  },
  {
   "cell_type": "code",
   "execution_count": 271,
   "metadata": {},
   "outputs": [
    {
     "name": "stdout",
     "output_type": "stream",
     "text": [
      "Train on 47200 samples, validate on 11800 samples\n",
      "Epoch 1/50\n",
      "20352/47200 [===========>..................] - ETA: 3s - loss: 0.0218 - accuracy: 0.5051WARNING:tensorflow:Early stopping conditioned on metric `val_loss` which is not available. Available metrics are: loss,accuracy\n"
     ]
    },
    {
     "ename": "KeyboardInterrupt",
     "evalue": "",
     "output_type": "error",
     "traceback": [
      "\u001b[1;31m---------------------------------------------------------------------------\u001b[0m",
      "\u001b[1;31mKeyboardInterrupt\u001b[0m                         Traceback (most recent call last)",
      "\u001b[1;32m<ipython-input-271-3f5c51169f52>\u001b[0m in \u001b[0;36m<module>\u001b[1;34m\u001b[0m\n\u001b[1;32m----> 1\u001b[1;33m \u001b[0mautoencoder_train\u001b[0m \u001b[1;33m=\u001b[0m \u001b[0mautoencoder\u001b[0m\u001b[1;33m.\u001b[0m\u001b[0mfit\u001b[0m\u001b[1;33m(\u001b[0m\u001b[0mx_train_total\u001b[0m\u001b[1;33m,\u001b[0m \u001b[0mx_train_total_ground\u001b[0m\u001b[1;33m,\u001b[0m \u001b[0mbatch_size\u001b[0m\u001b[1;33m=\u001b[0m\u001b[0mbatch_size\u001b[0m\u001b[1;33m,\u001b[0m\u001b[0mepochs\u001b[0m\u001b[1;33m=\u001b[0m\u001b[0mepochs\u001b[0m\u001b[1;33m,\u001b[0m\u001b[0mverbose\u001b[0m\u001b[1;33m=\u001b[0m\u001b[1;36m1\u001b[0m\u001b[1;33m,\u001b[0m \u001b[0mshuffle\u001b[0m\u001b[1;33m=\u001b[0m\u001b[1;32mTrue\u001b[0m\u001b[1;33m,\u001b[0m \u001b[0mcallbacks\u001b[0m\u001b[1;33m=\u001b[0m\u001b[1;33m[\u001b[0m\u001b[0mearly_stopping_monitor\u001b[0m\u001b[1;33m]\u001b[0m\u001b[1;33m,\u001b[0m \u001b[0mvalidation_data\u001b[0m\u001b[1;33m=\u001b[0m\u001b[1;33m(\u001b[0m\u001b[0mx_valid_total\u001b[0m\u001b[1;33m,\u001b[0m \u001b[0mx_valid_total_ground\u001b[0m\u001b[1;33m)\u001b[0m\u001b[1;33m)\u001b[0m\u001b[1;33m\u001b[0m\u001b[1;33m\u001b[0m\u001b[0m\n\u001b[0m",
      "\u001b[1;32m~\\miniconda3\\envs\\tensorflow\\lib\\site-packages\\tensorflow_core\\python\\keras\\engine\\training.py\u001b[0m in \u001b[0;36mfit\u001b[1;34m(self, x, y, batch_size, epochs, verbose, callbacks, validation_split, validation_data, shuffle, class_weight, sample_weight, initial_epoch, steps_per_epoch, validation_steps, validation_freq, max_queue_size, workers, use_multiprocessing, **kwargs)\u001b[0m\n\u001b[0;32m    817\u001b[0m         \u001b[0mmax_queue_size\u001b[0m\u001b[1;33m=\u001b[0m\u001b[0mmax_queue_size\u001b[0m\u001b[1;33m,\u001b[0m\u001b[1;33m\u001b[0m\u001b[1;33m\u001b[0m\u001b[0m\n\u001b[0;32m    818\u001b[0m         \u001b[0mworkers\u001b[0m\u001b[1;33m=\u001b[0m\u001b[0mworkers\u001b[0m\u001b[1;33m,\u001b[0m\u001b[1;33m\u001b[0m\u001b[1;33m\u001b[0m\u001b[0m\n\u001b[1;32m--> 819\u001b[1;33m         use_multiprocessing=use_multiprocessing)\n\u001b[0m\u001b[0;32m    820\u001b[0m \u001b[1;33m\u001b[0m\u001b[0m\n\u001b[0;32m    821\u001b[0m   def evaluate(self,\n",
      "\u001b[1;32m~\\miniconda3\\envs\\tensorflow\\lib\\site-packages\\tensorflow_core\\python\\keras\\engine\\training_v2.py\u001b[0m in \u001b[0;36mfit\u001b[1;34m(self, model, x, y, batch_size, epochs, verbose, callbacks, validation_split, validation_data, shuffle, class_weight, sample_weight, initial_epoch, steps_per_epoch, validation_steps, validation_freq, max_queue_size, workers, use_multiprocessing, **kwargs)\u001b[0m\n\u001b[0;32m    340\u001b[0m                 \u001b[0mmode\u001b[0m\u001b[1;33m=\u001b[0m\u001b[0mModeKeys\u001b[0m\u001b[1;33m.\u001b[0m\u001b[0mTRAIN\u001b[0m\u001b[1;33m,\u001b[0m\u001b[1;33m\u001b[0m\u001b[1;33m\u001b[0m\u001b[0m\n\u001b[0;32m    341\u001b[0m                 \u001b[0mtraining_context\u001b[0m\u001b[1;33m=\u001b[0m\u001b[0mtraining_context\u001b[0m\u001b[1;33m,\u001b[0m\u001b[1;33m\u001b[0m\u001b[1;33m\u001b[0m\u001b[0m\n\u001b[1;32m--> 342\u001b[1;33m                 total_epochs=epochs)\n\u001b[0m\u001b[0;32m    343\u001b[0m             \u001b[0mcbks\u001b[0m\u001b[1;33m.\u001b[0m\u001b[0mmake_logs\u001b[0m\u001b[1;33m(\u001b[0m\u001b[0mmodel\u001b[0m\u001b[1;33m,\u001b[0m \u001b[0mepoch_logs\u001b[0m\u001b[1;33m,\u001b[0m \u001b[0mtraining_result\u001b[0m\u001b[1;33m,\u001b[0m \u001b[0mModeKeys\u001b[0m\u001b[1;33m.\u001b[0m\u001b[0mTRAIN\u001b[0m\u001b[1;33m)\u001b[0m\u001b[1;33m\u001b[0m\u001b[1;33m\u001b[0m\u001b[0m\n\u001b[0;32m    344\u001b[0m \u001b[1;33m\u001b[0m\u001b[0m\n",
      "\u001b[1;32m~\\miniconda3\\envs\\tensorflow\\lib\\site-packages\\tensorflow_core\\python\\keras\\engine\\training_v2.py\u001b[0m in \u001b[0;36mrun_one_epoch\u001b[1;34m(model, iterator, execution_function, dataset_size, batch_size, strategy, steps_per_epoch, num_samples, mode, training_context, total_epochs)\u001b[0m\n\u001b[0;32m    126\u001b[0m         step=step, mode=mode, size=current_batch_size) as batch_logs:\n\u001b[0;32m    127\u001b[0m       \u001b[1;32mtry\u001b[0m\u001b[1;33m:\u001b[0m\u001b[1;33m\u001b[0m\u001b[1;33m\u001b[0m\u001b[0m\n\u001b[1;32m--> 128\u001b[1;33m         \u001b[0mbatch_outs\u001b[0m \u001b[1;33m=\u001b[0m \u001b[0mexecution_function\u001b[0m\u001b[1;33m(\u001b[0m\u001b[0miterator\u001b[0m\u001b[1;33m)\u001b[0m\u001b[1;33m\u001b[0m\u001b[1;33m\u001b[0m\u001b[0m\n\u001b[0m\u001b[0;32m    129\u001b[0m       \u001b[1;32mexcept\u001b[0m \u001b[1;33m(\u001b[0m\u001b[0mStopIteration\u001b[0m\u001b[1;33m,\u001b[0m \u001b[0merrors\u001b[0m\u001b[1;33m.\u001b[0m\u001b[0mOutOfRangeError\u001b[0m\u001b[1;33m)\u001b[0m\u001b[1;33m:\u001b[0m\u001b[1;33m\u001b[0m\u001b[1;33m\u001b[0m\u001b[0m\n\u001b[0;32m    130\u001b[0m         \u001b[1;31m# TODO(kaftan): File bug about tf function and errors.OutOfRangeError?\u001b[0m\u001b[1;33m\u001b[0m\u001b[1;33m\u001b[0m\u001b[1;33m\u001b[0m\u001b[0m\n",
      "\u001b[1;32m~\\miniconda3\\envs\\tensorflow\\lib\\site-packages\\tensorflow_core\\python\\keras\\engine\\training_v2_utils.py\u001b[0m in \u001b[0;36mexecution_function\u001b[1;34m(input_fn)\u001b[0m\n\u001b[0;32m     96\u001b[0m     \u001b[1;31m# `numpy` translates Tensors to values in Eager mode.\u001b[0m\u001b[1;33m\u001b[0m\u001b[1;33m\u001b[0m\u001b[1;33m\u001b[0m\u001b[0m\n\u001b[0;32m     97\u001b[0m     return nest.map_structure(_non_none_constant_value,\n\u001b[1;32m---> 98\u001b[1;33m                               distributed_function(input_fn))\n\u001b[0m\u001b[0;32m     99\u001b[0m \u001b[1;33m\u001b[0m\u001b[0m\n\u001b[0;32m    100\u001b[0m   \u001b[1;32mreturn\u001b[0m \u001b[0mexecution_function\u001b[0m\u001b[1;33m\u001b[0m\u001b[1;33m\u001b[0m\u001b[0m\n",
      "\u001b[1;32m~\\miniconda3\\envs\\tensorflow\\lib\\site-packages\\tensorflow_core\\python\\eager\\def_function.py\u001b[0m in \u001b[0;36m__call__\u001b[1;34m(self, *args, **kwds)\u001b[0m\n\u001b[0;32m    566\u001b[0m         \u001b[0mxla_context\u001b[0m\u001b[1;33m.\u001b[0m\u001b[0mExit\u001b[0m\u001b[1;33m(\u001b[0m\u001b[1;33m)\u001b[0m\u001b[1;33m\u001b[0m\u001b[1;33m\u001b[0m\u001b[0m\n\u001b[0;32m    567\u001b[0m     \u001b[1;32melse\u001b[0m\u001b[1;33m:\u001b[0m\u001b[1;33m\u001b[0m\u001b[1;33m\u001b[0m\u001b[0m\n\u001b[1;32m--> 568\u001b[1;33m       \u001b[0mresult\u001b[0m \u001b[1;33m=\u001b[0m \u001b[0mself\u001b[0m\u001b[1;33m.\u001b[0m\u001b[0m_call\u001b[0m\u001b[1;33m(\u001b[0m\u001b[1;33m*\u001b[0m\u001b[0margs\u001b[0m\u001b[1;33m,\u001b[0m \u001b[1;33m**\u001b[0m\u001b[0mkwds\u001b[0m\u001b[1;33m)\u001b[0m\u001b[1;33m\u001b[0m\u001b[1;33m\u001b[0m\u001b[0m\n\u001b[0m\u001b[0;32m    569\u001b[0m \u001b[1;33m\u001b[0m\u001b[0m\n\u001b[0;32m    570\u001b[0m     \u001b[1;32mif\u001b[0m \u001b[0mtracing_count\u001b[0m \u001b[1;33m==\u001b[0m \u001b[0mself\u001b[0m\u001b[1;33m.\u001b[0m\u001b[0m_get_tracing_count\u001b[0m\u001b[1;33m(\u001b[0m\u001b[1;33m)\u001b[0m\u001b[1;33m:\u001b[0m\u001b[1;33m\u001b[0m\u001b[1;33m\u001b[0m\u001b[0m\n",
      "\u001b[1;32m~\\miniconda3\\envs\\tensorflow\\lib\\site-packages\\tensorflow_core\\python\\eager\\def_function.py\u001b[0m in \u001b[0;36m_call\u001b[1;34m(self, *args, **kwds)\u001b[0m\n\u001b[0;32m    597\u001b[0m       \u001b[1;31m# In this case we have created variables on the first call, so we run the\u001b[0m\u001b[1;33m\u001b[0m\u001b[1;33m\u001b[0m\u001b[1;33m\u001b[0m\u001b[0m\n\u001b[0;32m    598\u001b[0m       \u001b[1;31m# defunned version which is guaranteed to never create variables.\u001b[0m\u001b[1;33m\u001b[0m\u001b[1;33m\u001b[0m\u001b[1;33m\u001b[0m\u001b[0m\n\u001b[1;32m--> 599\u001b[1;33m       \u001b[1;32mreturn\u001b[0m \u001b[0mself\u001b[0m\u001b[1;33m.\u001b[0m\u001b[0m_stateless_fn\u001b[0m\u001b[1;33m(\u001b[0m\u001b[1;33m*\u001b[0m\u001b[0margs\u001b[0m\u001b[1;33m,\u001b[0m \u001b[1;33m**\u001b[0m\u001b[0mkwds\u001b[0m\u001b[1;33m)\u001b[0m  \u001b[1;31m# pylint: disable=not-callable\u001b[0m\u001b[1;33m\u001b[0m\u001b[1;33m\u001b[0m\u001b[0m\n\u001b[0m\u001b[0;32m    600\u001b[0m     \u001b[1;32melif\u001b[0m \u001b[0mself\u001b[0m\u001b[1;33m.\u001b[0m\u001b[0m_stateful_fn\u001b[0m \u001b[1;32mis\u001b[0m \u001b[1;32mnot\u001b[0m \u001b[1;32mNone\u001b[0m\u001b[1;33m:\u001b[0m\u001b[1;33m\u001b[0m\u001b[1;33m\u001b[0m\u001b[0m\n\u001b[0;32m    601\u001b[0m       \u001b[1;31m# Release the lock early so that multiple threads can perform the call\u001b[0m\u001b[1;33m\u001b[0m\u001b[1;33m\u001b[0m\u001b[1;33m\u001b[0m\u001b[0m\n",
      "\u001b[1;32m~\\miniconda3\\envs\\tensorflow\\lib\\site-packages\\tensorflow_core\\python\\eager\\function.py\u001b[0m in \u001b[0;36m__call__\u001b[1;34m(self, *args, **kwargs)\u001b[0m\n\u001b[0;32m   2361\u001b[0m     \u001b[1;32mwith\u001b[0m \u001b[0mself\u001b[0m\u001b[1;33m.\u001b[0m\u001b[0m_lock\u001b[0m\u001b[1;33m:\u001b[0m\u001b[1;33m\u001b[0m\u001b[1;33m\u001b[0m\u001b[0m\n\u001b[0;32m   2362\u001b[0m       \u001b[0mgraph_function\u001b[0m\u001b[1;33m,\u001b[0m \u001b[0margs\u001b[0m\u001b[1;33m,\u001b[0m \u001b[0mkwargs\u001b[0m \u001b[1;33m=\u001b[0m \u001b[0mself\u001b[0m\u001b[1;33m.\u001b[0m\u001b[0m_maybe_define_function\u001b[0m\u001b[1;33m(\u001b[0m\u001b[0margs\u001b[0m\u001b[1;33m,\u001b[0m \u001b[0mkwargs\u001b[0m\u001b[1;33m)\u001b[0m\u001b[1;33m\u001b[0m\u001b[1;33m\u001b[0m\u001b[0m\n\u001b[1;32m-> 2363\u001b[1;33m     \u001b[1;32mreturn\u001b[0m \u001b[0mgraph_function\u001b[0m\u001b[1;33m.\u001b[0m\u001b[0m_filtered_call\u001b[0m\u001b[1;33m(\u001b[0m\u001b[0margs\u001b[0m\u001b[1;33m,\u001b[0m \u001b[0mkwargs\u001b[0m\u001b[1;33m)\u001b[0m  \u001b[1;31m# pylint: disable=protected-access\u001b[0m\u001b[1;33m\u001b[0m\u001b[1;33m\u001b[0m\u001b[0m\n\u001b[0m\u001b[0;32m   2364\u001b[0m \u001b[1;33m\u001b[0m\u001b[0m\n\u001b[0;32m   2365\u001b[0m   \u001b[1;33m@\u001b[0m\u001b[0mproperty\u001b[0m\u001b[1;33m\u001b[0m\u001b[1;33m\u001b[0m\u001b[0m\n",
      "\u001b[1;32m~\\miniconda3\\envs\\tensorflow\\lib\\site-packages\\tensorflow_core\\python\\eager\\function.py\u001b[0m in \u001b[0;36m_filtered_call\u001b[1;34m(self, args, kwargs)\u001b[0m\n\u001b[0;32m   1609\u001b[0m          if isinstance(t, (ops.Tensor,\n\u001b[0;32m   1610\u001b[0m                            resource_variable_ops.BaseResourceVariable))),\n\u001b[1;32m-> 1611\u001b[1;33m         self.captured_inputs)\n\u001b[0m\u001b[0;32m   1612\u001b[0m \u001b[1;33m\u001b[0m\u001b[0m\n\u001b[0;32m   1613\u001b[0m   \u001b[1;32mdef\u001b[0m \u001b[0m_call_flat\u001b[0m\u001b[1;33m(\u001b[0m\u001b[0mself\u001b[0m\u001b[1;33m,\u001b[0m \u001b[0margs\u001b[0m\u001b[1;33m,\u001b[0m \u001b[0mcaptured_inputs\u001b[0m\u001b[1;33m,\u001b[0m \u001b[0mcancellation_manager\u001b[0m\u001b[1;33m=\u001b[0m\u001b[1;32mNone\u001b[0m\u001b[1;33m)\u001b[0m\u001b[1;33m:\u001b[0m\u001b[1;33m\u001b[0m\u001b[1;33m\u001b[0m\u001b[0m\n",
      "\u001b[1;32m~\\miniconda3\\envs\\tensorflow\\lib\\site-packages\\tensorflow_core\\python\\eager\\function.py\u001b[0m in \u001b[0;36m_call_flat\u001b[1;34m(self, args, captured_inputs, cancellation_manager)\u001b[0m\n\u001b[0;32m   1690\u001b[0m       \u001b[1;31m# No tape is watching; skip to running the function.\u001b[0m\u001b[1;33m\u001b[0m\u001b[1;33m\u001b[0m\u001b[1;33m\u001b[0m\u001b[0m\n\u001b[0;32m   1691\u001b[0m       return self._build_call_outputs(self._inference_function.call(\n\u001b[1;32m-> 1692\u001b[1;33m           ctx, args, cancellation_manager=cancellation_manager))\n\u001b[0m\u001b[0;32m   1693\u001b[0m     forward_backward = self._select_forward_and_backward_functions(\n\u001b[0;32m   1694\u001b[0m         \u001b[0margs\u001b[0m\u001b[1;33m,\u001b[0m\u001b[1;33m\u001b[0m\u001b[1;33m\u001b[0m\u001b[0m\n",
      "\u001b[1;32m~\\miniconda3\\envs\\tensorflow\\lib\\site-packages\\tensorflow_core\\python\\eager\\function.py\u001b[0m in \u001b[0;36mcall\u001b[1;34m(self, ctx, args, cancellation_manager)\u001b[0m\n\u001b[0;32m    543\u001b[0m               \u001b[0minputs\u001b[0m\u001b[1;33m=\u001b[0m\u001b[0margs\u001b[0m\u001b[1;33m,\u001b[0m\u001b[1;33m\u001b[0m\u001b[1;33m\u001b[0m\u001b[0m\n\u001b[0;32m    544\u001b[0m               \u001b[0mattrs\u001b[0m\u001b[1;33m=\u001b[0m\u001b[1;33m(\u001b[0m\u001b[1;34m\"executor_type\"\u001b[0m\u001b[1;33m,\u001b[0m \u001b[0mexecutor_type\u001b[0m\u001b[1;33m,\u001b[0m \u001b[1;34m\"config_proto\"\u001b[0m\u001b[1;33m,\u001b[0m \u001b[0mconfig\u001b[0m\u001b[1;33m)\u001b[0m\u001b[1;33m,\u001b[0m\u001b[1;33m\u001b[0m\u001b[1;33m\u001b[0m\u001b[0m\n\u001b[1;32m--> 545\u001b[1;33m               ctx=ctx)\n\u001b[0m\u001b[0;32m    546\u001b[0m         \u001b[1;32melse\u001b[0m\u001b[1;33m:\u001b[0m\u001b[1;33m\u001b[0m\u001b[1;33m\u001b[0m\u001b[0m\n\u001b[0;32m    547\u001b[0m           outputs = execute.execute_with_cancellation(\n",
      "\u001b[1;32m~\\miniconda3\\envs\\tensorflow\\lib\\site-packages\\tensorflow_core\\python\\eager\\execute.py\u001b[0m in \u001b[0;36mquick_execute\u001b[1;34m(op_name, num_outputs, inputs, attrs, ctx, name)\u001b[0m\n\u001b[0;32m     59\u001b[0m     tensors = pywrap_tensorflow.TFE_Py_Execute(ctx._handle, device_name,\n\u001b[0;32m     60\u001b[0m                                                \u001b[0mop_name\u001b[0m\u001b[1;33m,\u001b[0m \u001b[0minputs\u001b[0m\u001b[1;33m,\u001b[0m \u001b[0mattrs\u001b[0m\u001b[1;33m,\u001b[0m\u001b[1;33m\u001b[0m\u001b[1;33m\u001b[0m\u001b[0m\n\u001b[1;32m---> 61\u001b[1;33m                                                num_outputs)\n\u001b[0m\u001b[0;32m     62\u001b[0m   \u001b[1;32mexcept\u001b[0m \u001b[0mcore\u001b[0m\u001b[1;33m.\u001b[0m\u001b[0m_NotOkStatusException\u001b[0m \u001b[1;32mas\u001b[0m \u001b[0me\u001b[0m\u001b[1;33m:\u001b[0m\u001b[1;33m\u001b[0m\u001b[1;33m\u001b[0m\u001b[0m\n\u001b[0;32m     63\u001b[0m     \u001b[1;32mif\u001b[0m \u001b[0mname\u001b[0m \u001b[1;32mis\u001b[0m \u001b[1;32mnot\u001b[0m \u001b[1;32mNone\u001b[0m\u001b[1;33m:\u001b[0m\u001b[1;33m\u001b[0m\u001b[1;33m\u001b[0m\u001b[0m\n",
      "\u001b[1;31mKeyboardInterrupt\u001b[0m: "
     ]
    }
   ],
   "source": [
    "autoencoder_train = autoencoder.fit(x_train_total, x_train_total_ground, batch_size=batch_size,epochs=epochs,verbose=1, shuffle=True, callbacks=[early_stopping_monitor], validation_data=(x_valid_total, x_valid_total_ground))"
   ]
  },
  {
   "cell_type": "code",
   "execution_count": 246,
   "metadata": {},
   "outputs": [
    {
     "data": {
      "image/png": "[encoded data removed]",
      "text/plain": [
       "<Figure size 432x288 with 1 Axes>"
      ]
     },
     "metadata": {
      "needs_background": "light"
     },
     "output_type": "display_data"
    }
   ],
   "source": [
    "loss = autoencoder_train.history['loss']\n",
    "val_loss = autoencoder_train.history['val_loss']\n",
    "epochs = range(len(loss))\n",
    "plt.figure()\n",
    "plt.plot(epochs, loss, 'bo', label='Training loss')\n",
    "plt.plot(epochs, val_loss, 'b', label='Validation loss')\n",
    "plt.title('Training and validation loss')\n",
    "plt.legend()\n",
    "plt.show()"
   ]
  },
  {
   "cell_type": "code",
   "execution_count": 247,
   "metadata": {},
   "outputs": [
    {
     "name": "stdout",
     "output_type": "stream",
     "text": [
      "(5000, 28, 28, 1)\n"
     ]
    }
   ],
   "source": [
    "pred_fm1 = autoencoder.predict(x_test_fm1)\n",
    "print(pred_fm1.shape)"
   ]
  },
  {
   "cell_type": "code",
   "execution_count": 248,
   "metadata": {},
   "outputs": [
    {
     "name": "stdout",
     "output_type": "stream",
     "text": [
      "Test Images\n"
     ]
    },
    {
     "data": {
      "image/png": "[encoded data removed]",
      "text/plain": [
       "<Figure size 1440x288 with 20 Axes>"
      ]
     },
     "metadata": {
      "needs_background": "light"
     },
     "output_type": "display_data"
    },
    {
     "name": "stdout",
     "output_type": "stream",
     "text": [
      "Reconstruction of Test Images\n"
     ]
    },
    {
     "data": {
      "text/plain": [
       "<Figure size 1440x288 with 0 Axes>"
      ]
     },
     "metadata": {},
     "output_type": "display_data"
    },
    {
     "data": {
      "image/png": "[encoded data removed]",
      "text/plain": [
       "<Figure size 1440x288 with 20 Axes>"
      ]
     },
     "metadata": {
      "needs_background": "light"
     },
     "output_type": "display_data"
    }
   ],
   "source": [
    "plt.figure(figsize=(20, 4))\n",
    "print(\"Test Images\")\n",
    "for i in range(20):\n",
    "    plt.subplot(2, 10, i+1)\n",
    "    plt.imshow(x_test_fm1[i, ..., 0], cmap='gray')\n",
    "plt.show()    \n",
    "plt.figure(figsize=(20, 4))\n",
    "\n",
    "plt.figure(figsize=(20, 4))\n",
    "print(\"Reconstruction of Test Images\")\n",
    "for i in range(20):\n",
    "    plt.subplot(2, 10, i+1)\n",
    "    plt.imshow(pred_fm1[i, ..., 0], cmap='gray')  \n",
    "plt.show()"
   ]
  },
  {
   "cell_type": "code",
   "execution_count": 249,
   "metadata": {},
   "outputs": [],
   "source": [
    "autoencoder.save_weights('autoencoder.h5')"
   ]
  },
  {
   "cell_type": "markdown",
   "metadata": {},
   "source": [
    "# ====================="
   ]
  },
  {
   "cell_type": "markdown",
   "metadata": {},
   "source": [
    "# Question 3"
   ]
  },
  {
   "cell_type": "code",
   "execution_count": 149,
   "metadata": {},
   "outputs": [],
   "source": [
    "#load fashion_mnist dataset from keras \n",
    "(x_train_combined,y_train_combined), (x_test_combined,y_test_combined) = fashion_mnist.load_data()"
   ]
  },
  {
   "cell_type": "code",
   "execution_count": 150,
   "metadata": {},
   "outputs": [
    {
     "name": "stdout",
     "output_type": "stream",
     "text": [
      "Training data shape :  (60000, 28, 28) (60000,)\n",
      "Testing data shape :  (10000, 28, 28) (10000,)\n"
     ]
    }
   ],
   "source": [
    "print('Training data shape : ', x_train_combined.shape, y_train_combined.shape)\n",
    "print('Testing data shape : ', x_test_combined.shape, y_test_combined.shape)"
   ]
  },
  {
   "cell_type": "code",
   "execution_count": 151,
   "metadata": {},
   "outputs": [],
   "source": [
    "def filter(xs, ys, lbls):\n",
    "    idxs = [i for (i, y) in enumerate(ys) if y in lbls]\n",
    "    xsprime = np.zeros((len(idxs), xs.shape[1], xs.shape[2]))\n",
    "    for (i, j) in enumerate(idxs):\n",
    "        xsprime[i] = xs[j]\n",
    "    ymap = {}\n",
    "    for (yprime, y) in enumerate(lbls):\n",
    "        ymap[y] = yprime\n",
    "    ysprime = np.array([ymap[y] for y in ys[idxs]])\n",
    "    return xsprime, ysprime\n",
    "\n",
    "fm1lbls = [0, 1, 4, 5, 8]\n",
    "x_train_fm1, y_train_fm1 = filter(x_train_combined, y_train_combined, fm1lbls)\n",
    "x_test_fm1, y_test_fm1 = filter(x_test_combined, y_test_combined, fm1lbls)\n",
    "\n",
    "fm1classes  = fm1lbls\n",
    "fm1nClasses = len(fm1classes)\n"
   ]
  },
  {
   "cell_type": "code",
   "execution_count": 152,
   "metadata": {},
   "outputs": [],
   "source": [
    "x_train_fm1 = x_train_fm1.reshape(-1, 28,28, 1)\n",
    "x_test_fm1 = x_test_fm1.reshape(-1, 28,28, 1)"
   ]
  },
  {
   "cell_type": "code",
   "execution_count": 153,
   "metadata": {},
   "outputs": [],
   "source": [
    "# Convert data type from int8 to float32\n",
    "x_train_fm1 = x_train_fm1.astype('float32')\n",
    "x_test_fm1 = x_test_fm1.astype('float32')\n",
    "\n",
    "# Normalize the data: rescale the pixel values in range 0 - 1 inclusive for training purposes\n",
    "x_train_fm1 = x_train_fm1 / 255.\n",
    "x_test_fm1 = x_test_fm1 / 255.\n",
    "\n"
   ]
  },
  {
   "cell_type": "code",
   "execution_count": 154,
   "metadata": {},
   "outputs": [
    {
     "name": "stdout",
     "output_type": "stream",
     "text": [
      "[[1. 0. 0. 0. 0.]\n",
      " [1. 0. 0. 0. 0.]\n",
      " [1. 0. 0. 0. 0.]\n",
      " ...\n",
      " [0. 1. 0. 0. 0.]\n",
      " [1. 0. 0. 0. 0.]\n",
      " [0. 0. 0. 1. 0.]]\n"
     ]
    }
   ],
   "source": [
    "y_train_one_hot_fm1 = to_categorical(y_train_fm1)\n",
    "y_test_one_hot_fm1 = to_categorical(y_test_fm1)\n",
    "print(y_train_one_hot_fm1)"
   ]
  },
  {
   "cell_type": "code",
   "execution_count": 155,
   "metadata": {},
   "outputs": [],
   "source": [
    "from sklearn.model_selection import train_test_split\n",
    "x_train_fm1,x_valid_fm1,x_train_fm1_label,x_valid_fm1_label = train_test_split(x_train_fm1,\n",
    "                                                             y_train_one_hot_fm1, \n",
    "                                                             test_size=0.2, \n",
    "                                                             random_state=13)\n"
   ]
  },
  {
   "cell_type": "code",
   "execution_count": 83,
   "metadata": {},
   "outputs": [],
   "source": [
    "def fully_connected_layer(encoder):\n",
    "    flatten = Flatten()(encoder)\n",
    "    dense = Dense(128, activation='relu')(flatten)\n",
    "    dense = Dropout(0.3)(dense)\n",
    "    output = Dense(num_classes, activation='softmax')(dense)\n",
    "    return output"
   ]
  },
  {
   "cell_type": "code",
   "execution_count": 84,
   "metadata": {},
   "outputs": [],
   "source": [
    "encode = encoder(input_img)\n",
    "full_model = Model(input_img,fully_connected_layer(encode))"
   ]
  },
  {
   "cell_type": "code",
   "execution_count": 85,
   "metadata": {},
   "outputs": [],
   "source": [
    "# full_model.layers"
   ]
  },
  {
   "cell_type": "code",
   "execution_count": 86,
   "metadata": {},
   "outputs": [],
   "source": [
    "for l1,l2 in zip(full_model.layers[:22],autoencoder.layers[0:22]):\n",
    "    l1.set_weights(l2.get_weights())"
   ]
  },
  {
   "cell_type": "code",
   "execution_count": 87,
   "metadata": {},
   "outputs": [
    {
     "data": {
      "text/plain": [
       "26"
      ]
     },
     "execution_count": 87,
     "metadata": {},
     "output_type": "execute_result"
    }
   ],
   "source": [
    "len(full_model.layers)"
   ]
  },
  {
   "cell_type": "code",
   "execution_count": 88,
   "metadata": {},
   "outputs": [
    {
     "data": {
      "text/plain": [
       "38"
      ]
     },
     "execution_count": 88,
     "metadata": {},
     "output_type": "execute_result"
    }
   ],
   "source": [
    "len(autoencoder.layers)"
   ]
  },
  {
   "cell_type": "code",
   "execution_count": 89,
   "metadata": {},
   "outputs": [],
   "source": [
    "# autoencoder.get_weights()[0][1]"
   ]
  },
  {
   "cell_type": "code",
   "execution_count": 90,
   "metadata": {},
   "outputs": [],
   "source": [
    "# full_model.get_weights()[0][1]"
   ]
  },
  {
   "cell_type": "code",
   "execution_count": 91,
   "metadata": {},
   "outputs": [],
   "source": [
    "for layer in full_model.layers[0:22]:\n",
    "    layer.trainable = False"
   ]
  },
  {
   "cell_type": "code",
   "execution_count": 92,
   "metadata": {},
   "outputs": [],
   "source": [
    "learning_rate = 1e-5"
   ]
  },
  {
   "cell_type": "code",
   "execution_count": 93,
   "metadata": {},
   "outputs": [],
   "source": [
    "full_model.compile(loss=keras.losses.categorical_crossentropy, optimizer=keras.optimizers.Adam(lr=learning_rate),metrics=['accuracy'])"
   ]
  },
  {
   "cell_type": "code",
   "execution_count": 94,
   "metadata": {},
   "outputs": [
    {
     "name": "stdout",
     "output_type": "stream",
     "text": [
      "Model: \"model_43\"\n",
      "_________________________________________________________________\n",
      "Layer (type)                 Output Shape              Param #   \n",
      "=================================================================\n",
      "input_1 (InputLayer)         [(None, 28, 28, 1)]       0         \n",
      "_________________________________________________________________\n",
      "conv2d_367 (Conv2D)          (None, 28, 28, 32)        320       \n",
      "_________________________________________________________________\n",
      "batch_normalization_366 (Bat (None, 28, 28, 32)        128       \n",
      "_________________________________________________________________\n",
      "conv2d_368 (Conv2D)          (None, 28, 28, 32)        9248      \n",
      "_________________________________________________________________\n",
      "batch_normalization_367 (Bat (None, 28, 28, 32)        128       \n",
      "_________________________________________________________________\n",
      "max_pooling2d_90 (MaxPooling (None, 14, 14, 32)        0         \n",
      "_________________________________________________________________\n",
      "dropout_180 (Dropout)        (None, 14, 14, 32)        0         \n",
      "_________________________________________________________________\n",
      "conv2d_369 (Conv2D)          (None, 14, 14, 64)        18496     \n",
      "_________________________________________________________________\n",
      "batch_normalization_368 (Bat (None, 14, 14, 64)        256       \n",
      "_________________________________________________________________\n",
      "conv2d_370 (Conv2D)          (None, 14, 14, 64)        36928     \n",
      "_________________________________________________________________\n",
      "batch_normalization_369 (Bat (None, 14, 14, 64)        256       \n",
      "_________________________________________________________________\n",
      "max_pooling2d_91 (MaxPooling (None, 7, 7, 64)          0         \n",
      "_________________________________________________________________\n",
      "dropout_181 (Dropout)        (None, 7, 7, 64)          0         \n",
      "_________________________________________________________________\n",
      "conv2d_371 (Conv2D)          (None, 7, 7, 128)         73856     \n",
      "_________________________________________________________________\n",
      "batch_normalization_370 (Bat (None, 7, 7, 128)         512       \n",
      "_________________________________________________________________\n",
      "conv2d_372 (Conv2D)          (None, 7, 7, 128)         147584    \n",
      "_________________________________________________________________\n",
      "batch_normalization_371 (Bat (None, 7, 7, 128)         512       \n",
      "_________________________________________________________________\n",
      "dropout_182 (Dropout)        (None, 7, 7, 128)         0         \n",
      "_________________________________________________________________\n",
      "conv2d_373 (Conv2D)          (None, 7, 7, 256)         295168    \n",
      "_________________________________________________________________\n",
      "batch_normalization_372 (Bat (None, 7, 7, 256)         1024      \n",
      "_________________________________________________________________\n",
      "conv2d_374 (Conv2D)          (None, 7, 7, 256)         590080    \n",
      "_________________________________________________________________\n",
      "batch_normalization_373 (Bat (None, 7, 7, 256)         1024      \n",
      "_________________________________________________________________\n",
      "flatten_42 (Flatten)         (None, 12544)             0         \n",
      "_________________________________________________________________\n",
      "dense_84 (Dense)             (None, 128)               1605760   \n",
      "_________________________________________________________________\n",
      "dropout_183 (Dropout)        (None, 128)               0         \n",
      "_________________________________________________________________\n",
      "dense_85 (Dense)             (None, 5)                 645       \n",
      "=================================================================\n",
      "Total params: 2,781,925\n",
      "Trainable params: 1,606,405\n",
      "Non-trainable params: 1,175,520\n",
      "_________________________________________________________________\n"
     ]
    }
   ],
   "source": [
    "full_model.summary()"
   ]
  },
  {
   "cell_type": "code",
   "execution_count": 90,
   "metadata": {},
   "outputs": [
    {
     "name": "stdout",
     "output_type": "stream",
     "text": [
      "(24000, 28, 28, 1)\n",
      "(24000, 5)\n",
      "(6000, 28, 28, 1)\n"
     ]
    },
    {
     "data": {
      "text/plain": [
       "array([[1., 0., 0., 0., 0.],\n",
       "       [0., 0., 0., 1., 0.],\n",
       "       [0., 1., 0., 0., 0.],\n",
       "       ...,\n",
       "       [1., 0., 0., 0., 0.],\n",
       "       [1., 0., 0., 0., 0.],\n",
       "       [0., 0., 0., 0., 1.]], dtype=float32)"
      ]
     },
     "execution_count": 90,
     "metadata": {},
     "output_type": "execute_result"
    }
   ],
   "source": [
    "print(x_train_fm1.shape)\n",
    "print(x_train_fm1_label.shape)\n",
    "print(x_valid_fm1.shape)\n",
    "x_train_fm1_label"
   ]
  },
  {
   "cell_type": "code",
   "execution_count": 91,
   "metadata": {},
   "outputs": [
    {
     "name": "stdout",
     "output_type": "stream",
     "text": [
      "Train on 24000 samples, validate on 6000 samples\n",
      "Epoch 1/50\n",
      "24000/24000 [==============================] - 2s 87us/sample - loss: 0.3606 - accuracy: 0.8819 - val_loss: 0.0897 - val_accuracy: 0.9753\n",
      "Epoch 2/50\n",
      "24000/24000 [==============================] - 1s 57us/sample - loss: 0.1080 - accuracy: 0.9684 - val_loss: 0.0662 - val_accuracy: 0.9800\n",
      "Epoch 3/50\n",
      "24000/24000 [==============================] - 1s 56us/sample - loss: 0.0785 - accuracy: 0.9758 - val_loss: 0.0568 - val_accuracy: 0.9838\n",
      "Epoch 4/50\n",
      "24000/24000 [==============================] - 1s 55us/sample - loss: 0.0613 - accuracy: 0.9823 - val_loss: 0.0520 - val_accuracy: 0.9848\n",
      "Epoch 5/50\n",
      "24000/24000 [==============================] - 1s 56us/sample - loss: 0.0509 - accuracy: 0.9843 - val_loss: 0.0507 - val_accuracy: 0.9848\n",
      "Epoch 6/50\n",
      "24000/24000 [==============================] - 1s 56us/sample - loss: 0.0420 - accuracy: 0.9874 - val_loss: 0.0469 - val_accuracy: 0.9858\n",
      "Epoch 7/50\n",
      "24000/24000 [==============================] - 1s 56us/sample - loss: 0.0351 - accuracy: 0.9893 - val_loss: 0.0454 - val_accuracy: 0.9865\n",
      "Epoch 8/50\n",
      "24000/24000 [==============================] - 1s 59us/sample - loss: 0.0314 - accuracy: 0.9902 - val_loss: 0.0432 - val_accuracy: 0.9875\n",
      "Epoch 9/50\n",
      "24000/24000 [==============================] - 1s 56us/sample - loss: 0.0273 - accuracy: 0.9920 - val_loss: 0.0428 - val_accuracy: 0.9875\n",
      "Epoch 10/50\n",
      "24000/24000 [==============================] - 1s 56us/sample - loss: 0.0240 - accuracy: 0.9926 - val_loss: 0.0418 - val_accuracy: 0.9883\n",
      "Epoch 11/50\n",
      "24000/24000 [==============================] - 1s 55us/sample - loss: 0.0216 - accuracy: 0.9936 - val_loss: 0.0417 - val_accuracy: 0.9880\n",
      "Epoch 12/50\n",
      "24000/24000 [==============================] - 1s 56us/sample - loss: 0.0192 - accuracy: 0.9941 - val_loss: 0.0414 - val_accuracy: 0.9890\n",
      "Epoch 13/50\n",
      "24000/24000 [==============================] - 1s 56us/sample - loss: 0.0164 - accuracy: 0.9958 - val_loss: 0.0411 - val_accuracy: 0.9893\n",
      "Epoch 14/50\n",
      "24000/24000 [==============================] - 1s 55us/sample - loss: 0.0154 - accuracy: 0.9961 - val_loss: 0.0415 - val_accuracy: 0.9888\n",
      "Epoch 15/50\n",
      "24000/24000 [==============================] - 1s 55us/sample - loss: 0.0138 - accuracy: 0.9964 - val_loss: 0.0399 - val_accuracy: 0.9893\n",
      "Epoch 16/50\n",
      "24000/24000 [==============================] - 1s 55us/sample - loss: 0.0126 - accuracy: 0.9963 - val_loss: 0.0407 - val_accuracy: 0.9893\n",
      "Epoch 17/50\n",
      "24000/24000 [==============================] - 1s 56us/sample - loss: 0.0109 - accuracy: 0.9975 - val_loss: 0.0412 - val_accuracy: 0.9895\n",
      "Epoch 18/50\n",
      "24000/24000 [==============================] - 1s 56us/sample - loss: 0.0107 - accuracy: 0.9972 - val_loss: 0.0421 - val_accuracy: 0.9897\n",
      "Epoch 19/50\n",
      "24000/24000 [==============================] - 1s 55us/sample - loss: 0.0101 - accuracy: 0.9972 - val_loss: 0.0405 - val_accuracy: 0.9895\n",
      "Epoch 20/50\n",
      "24000/24000 [==============================] - 1s 56us/sample - loss: 0.0088 - accuracy: 0.9978 - val_loss: 0.0418 - val_accuracy: 0.9897\n",
      "Epoch 00020: early stopping\n"
     ]
    }
   ],
   "source": [
    "classify_train = full_model.fit(x_train_fm1, x_train_fm1_label, batch_size=64,epochs=50,verbose=1, shuffle=True, callbacks=[early_stopping_monitor], validation_data=(x_valid_fm1, x_valid_fm1_label))\n",
    "# classify_train = full_model.fit(x_train_fm1, x_train_fm1_label, batch_size=64,epochs=20,verbose=1, shuffle=True, validation_data=(x_valid_fm1, x_valid_fm1_label))"
   ]
  },
  {
   "cell_type": "code",
   "execution_count": 45,
   "metadata": {},
   "outputs": [],
   "source": [
    "full_model.save('autoencoder_classification.h5')"
   ]
  },
  {
   "cell_type": "code",
   "execution_count": 46,
   "metadata": {},
   "outputs": [],
   "source": [
    "# for layer in full_model.layers[0:22]:\n",
    "#     layer.trainable = True"
   ]
  },
  {
   "cell_type": "code",
   "execution_count": 47,
   "metadata": {},
   "outputs": [],
   "source": [
    "# full_model.compile(loss=keras.losses.categorical_crossentropy, optimizer=keras.optimizers.Adam(lr=learning_rate),metrics=['accuracy'])"
   ]
  },
  {
   "cell_type": "code",
   "execution_count": 48,
   "metadata": {},
   "outputs": [],
   "source": [
    "# classify_train = full_model.fit(x_train_fm1, x_train_fm1_label, batch_size=64,epochs=20,verbose=1,shuffle=True, callbacks=[early_stopping_monitor], validation_data=(x_valid_fm1, x_valid_fm1_label))\n",
    "# classify_train = full_model.fit(x_train_fm1, x_train_fm1_label, batch_size=64,epochs=20,verbose=1,shuffle=True, validation_data=(x_valid_fm1, x_valid_fm1_label))"
   ]
  },
  {
   "cell_type": "code",
   "execution_count": 49,
   "metadata": {
    "scrolled": false
   },
   "outputs": [],
   "source": [
    "# full_model = load_model('pretrained_5percent.h5')"
   ]
  },
  {
   "cell_type": "code",
   "execution_count": 50,
   "metadata": {},
   "outputs": [
    {
     "data": {
      "text/plain": [
       "list"
      ]
     },
     "execution_count": 50,
     "metadata": {},
     "output_type": "execute_result"
    }
   ],
   "source": [
    "type(classify_train.history['loss'])"
   ]
  },
  {
   "cell_type": "code",
   "execution_count": 92,
   "metadata": {},
   "outputs": [
    {
     "data": {
      "image/png": "[encoded data removed]",
      "text/plain": [
       "<Figure size 432x288 with 1 Axes>"
      ]
     },
     "metadata": {
      "needs_background": "light"
     },
     "output_type": "display_data"
    },
    {
     "data": {
      "image/png": "[encoded data removed]",
      "text/plain": [
       "<Figure size 432x288 with 1 Axes>"
      ]
     },
     "metadata": {
      "needs_background": "light"
     },
     "output_type": "display_data"
    }
   ],
   "source": [
    "accuracy = classify_train.history['accuracy']\n",
    "val_accuracy = classify_train.history['val_accuracy']\n",
    "loss = classify_train.history['loss']\n",
    "val_loss = classify_train.history['val_loss']\n",
    "epochs = range(len(loss))\n",
    "plt.plot(epochs, accuracy, 'bo', label='Training accuracy')\n",
    "plt.plot(epochs, val_accuracy, 'b', label='Validation accuracy')\n",
    "plt.title('Training and validation accuracy')\n",
    "plt.legend()\n",
    "plt.figure()\n",
    "plt.plot(epochs, loss, 'bo', label='Training loss')\n",
    "plt.plot(epochs, val_loss, 'b', label='Validation loss')\n",
    "plt.title('Training and validation loss')\n",
    "plt.legend()\n",
    "plt.show()"
   ]
  },
  {
   "cell_type": "code",
   "execution_count": 52,
   "metadata": {},
   "outputs": [
    {
     "name": "stdout",
     "output_type": "stream",
     "text": [
      "5000/5000 [==============================] - 0s 61us/sample - loss: 0.0404 - accuracy: 0.9880\n"
     ]
    }
   ],
   "source": [
    "test_eval = full_model.evaluate(x_test_fm1, y_test_one_hot_fm1, verbose=1)"
   ]
  },
  {
   "cell_type": "code",
   "execution_count": 53,
   "metadata": {},
   "outputs": [
    {
     "name": "stdout",
     "output_type": "stream",
     "text": [
      "Test loss: 0.040382058008445895\n",
      "Test accuracy: 0.988\n"
     ]
    }
   ],
   "source": [
    "print('Test loss:', test_eval[0])\n",
    "print('Test accuracy:', test_eval[1])"
   ]
  },
  {
   "cell_type": "code",
   "execution_count": 54,
   "metadata": {},
   "outputs": [],
   "source": [
    "predicted_classes = full_model.predict(x_test_fm1)"
   ]
  },
  {
   "cell_type": "code",
   "execution_count": 55,
   "metadata": {},
   "outputs": [],
   "source": [
    "predicted_classes = np.argmax(np.round(predicted_classes),axis=1)"
   ]
  },
  {
   "cell_type": "code",
   "execution_count": 56,
   "metadata": {},
   "outputs": [
    {
     "data": {
      "text/plain": [
       "((5000,), (5000, 28, 28, 1))"
      ]
     },
     "execution_count": 56,
     "metadata": {},
     "output_type": "execute_result"
    }
   ],
   "source": [
    "predicted_classes.shape, x_test_fm1.shape"
   ]
  },
  {
   "cell_type": "code",
   "execution_count": 57,
   "metadata": {},
   "outputs": [
    {
     "name": "stdout",
     "output_type": "stream",
     "text": [
      "Found 4940 correct labels\n"
     ]
    },
    {
     "data": {
      "image/png": "[encoded data removed]",
      "text/plain": [
       "<Figure size 432x288 with 8 Axes>"
      ]
     },
     "metadata": {
      "needs_background": "light"
     },
     "output_type": "display_data"
    }
   ],
   "source": [
    "correct = np.where(predicted_classes==y_test_fm1)[0]\n",
    "print(\"Found %d correct labels\" % len(correct))\n",
    "for i, correct in enumerate(correct[:9]):\n",
    "    plt.subplot(3,3,i+1)\n",
    "    plt.imshow(x_test_fm1[correct].reshape(28,28), cmap='gray', interpolation='none')\n",
    "    plt.title(\"Predicted {}, Class {}\".format(predicted_classes[correct], y_test_fm1[correct]))\n",
    "    plt.tight_layout()"
   ]
  },
  {
   "cell_type": "markdown",
   "metadata": {},
   "source": [
    "# Question  4"
   ]
  },
  {
   "cell_type": "code",
   "execution_count": 177,
   "metadata": {},
   "outputs": [],
   "source": [
    "#load fashion_mnist dataset from keras \n",
    "(x_train_combined,y_train_combined), (x_test_combined,y_test_combined) = fashion_mnist.load_data()"
   ]
  },
  {
   "cell_type": "code",
   "execution_count": 178,
   "metadata": {},
   "outputs": [
    {
     "name": "stdout",
     "output_type": "stream",
     "text": [
      "Training data shape :  (60000, 28, 28) (60000,)\n",
      "Testing data shape :  (10000, 28, 28) (10000,)\n"
     ]
    }
   ],
   "source": [
    "print('Training data shape : ', x_train_combined.shape, y_train_combined.shape)\n",
    "print('Testing data shape : ', x_test_combined.shape, y_test_combined.shape)"
   ]
  },
  {
   "cell_type": "code",
   "execution_count": 179,
   "metadata": {},
   "outputs": [],
   "source": [
    "def filter(xs, ys, lbls):\n",
    "    idxs = [i for (i, y) in enumerate(ys) if y in lbls]\n",
    "    xsprime = np.zeros((len(idxs), xs.shape[1], xs.shape[2]))\n",
    "    for (i, j) in enumerate(idxs):\n",
    "        xsprime[i] = xs[j]\n",
    "    ymap = {}\n",
    "    for (yprime, y) in enumerate(lbls):\n",
    "        ymap[y] = yprime\n",
    "    ysprime = np.array([ymap[y] for y in ys[idxs]])\n",
    "    return xsprime, ysprime\n",
    "\n",
    "fm1lbls = [0, 1, 4, 5, 8]\n",
    "x_train_fm1, y_train_fm1 = filter(x_train_combined, y_train_combined, fm1lbls)\n",
    "x_test_fm1, y_test_fm1 = filter(x_test_combined, y_test_combined, fm1lbls)\n",
    "\n",
    "fm1classes  = fm1lbls\n",
    "fm1nClasses = len(fm1classes)\n"
   ]
  },
  {
   "cell_type": "code",
   "execution_count": 180,
   "metadata": {},
   "outputs": [],
   "source": [
    "x_train_fm1 = x_train_fm1.reshape(-1, 28,28, 1)\n",
    "x_test_fm1 = x_test_fm1.reshape(-1, 28,28, 1)"
   ]
  },
  {
   "cell_type": "code",
   "execution_count": 181,
   "metadata": {},
   "outputs": [
    {
     "data": {
      "text/plain": [
       "(30000, 28, 28, 1)"
      ]
     },
     "execution_count": 181,
     "metadata": {},
     "output_type": "execute_result"
    }
   ],
   "source": [
    "# Convert data type from int8 to float32\n",
    "x_train_fm1 = x_train_fm1.astype('float32')\n",
    "x_test_fm1 = x_test_fm1.astype('float32')\n",
    "\n",
    "# Normalize the data: rescale the pixel values in range 0 - 1 inclusive for training purposes\n",
    "x_train_fm1 = x_train_fm1 / 255.\n",
    "x_test_fm1 = x_test_fm1 / 255.\n",
    "\n",
    "x_train_fm1.shape"
   ]
  },
  {
   "cell_type": "code",
   "execution_count": 182,
   "metadata": {
    "scrolled": true
   },
   "outputs": [
    {
     "name": "stdout",
     "output_type": "stream",
     "text": [
      "[[1. 0. 0. 0. 0.]\n",
      " [1. 0. 0. 0. 0.]\n",
      " [1. 0. 0. 0. 0.]\n",
      " ...\n",
      " [0. 1. 0. 0. 0.]\n",
      " [1. 0. 0. 0. 0.]\n",
      " [0. 0. 0. 1. 0.]]\n"
     ]
    }
   ],
   "source": [
    "y_train_one_hot_fm1 = to_categorical(y_train_fm1)\n",
    "y_test_one_hot_fm1 = to_categorical(y_test_fm1)\n",
    "print(y_train_one_hot_fm1)"
   ]
  },
  {
   "cell_type": "code",
   "execution_count": 183,
   "metadata": {},
   "outputs": [],
   "source": [
    "def fully_connected_layer(encoder):\n",
    "    flatten = Flatten()(encoder)\n",
    "    dense = Dense(128, activation='relu')(flatten)\n",
    "    dense = Dropout(0.3)(dense)\n",
    "    output = Dense(num_classes, activation='softmax')(dense)\n",
    "    return output"
   ]
  },
  {
   "cell_type": "code",
   "execution_count": 111,
   "metadata": {},
   "outputs": [],
   "source": [
    "pretrained_loss = []\n",
    "pretrained_val_loss = []\n",
    "random_init_loss = []\n",
    "random_init_val_loss = []\n",
    "\n",
    "# saves the number of epochs to reach the optimal value\n",
    "pretrained_train_epoch = []\n",
    "pretrained_val_epoch = []\n",
    "random_init_train_epoch = []\n",
    "random_init_val_epoch = []"
   ]
  },
  {
   "cell_type": "code",
   "execution_count": 112,
   "metadata": {
    "scrolled": true
   },
   "outputs": [
    {
     "name": "stdout",
     "output_type": "stream",
     "text": [
      "Restoring model weights from the end of the best epoch.\n",
      "Epoch 00049: early stopping\n",
      "Restoring model weights from the end of the best epoch.\n",
      "Epoch 00034: early stopping\n",
      "Restoring model weights from the end of the best epoch.\n",
      "Epoch 00041: early stopping\n",
      "Restoring model weights from the end of the best epoch.\n",
      "Epoch 00024: early stopping\n",
      "Restoring model weights from the end of the best epoch.\n",
      "Epoch 00027: early stopping\n",
      "Restoring model weights from the end of the best epoch.\n",
      "Epoch 00024: early stopping\n",
      "Restoring model weights from the end of the best epoch.\n",
      "Epoch 00022: early stopping\n",
      "Restoring model weights from the end of the best epoch.\n",
      "Epoch 00023: early stopping\n",
      "Restoring model weights from the end of the best epoch.\n",
      "Epoch 00031: early stopping\n",
      "Restoring model weights from the end of the best epoch.\n",
      "Epoch 00030: early stopping\n",
      "Restoring model weights from the end of the best epoch.\n",
      "Epoch 00027: early stopping\n",
      "Restoring model weights from the end of the best epoch.\n",
      "Epoch 00025: early stopping\n",
      "Restoring model weights from the end of the best epoch.\n",
      "Epoch 00019: early stopping\n",
      "Restoring model weights from the end of the best epoch.\n",
      "Epoch 00021: early stopping\n",
      "Restoring model weights from the end of the best epoch.\n",
      "Epoch 00020: early stopping\n",
      "Restoring model weights from the end of the best epoch.\n",
      "Epoch 00026: early stopping\n",
      "Restoring model weights from the end of the best epoch.\n",
      "Epoch 00021: early stopping\n",
      "Restoring model weights from the end of the best epoch.\n",
      "Epoch 00028: early stopping\n",
      "Restoring model weights from the end of the best epoch.\n",
      "Epoch 00023: early stopping\n",
      "Restoring model weights from the end of the best epoch.\n",
      "Epoch 00019: early stopping\n"
     ]
    }
   ],
   "source": [
    "from sklearn.model_selection import train_test_split\n",
    "percentage = [0.95, 0.90, 0.85, 0.80, 0.75, 0.70, 0.65, 0.60, 0.55, 0.50, 0.45, 0.40, 0.35, 0.30, 0.25, 0.20, 0.15, 0.10, 0.05, 0]\n",
    "for data_proportion in percentage:\n",
    "    if data_proportion == 0:\n",
    "        x_train_fm1_subset = x_train_fm1\n",
    "        x_train_fm1_label_subset = y_train_one_hot_fm1\n",
    "    else:\n",
    "        x_train_fm1_subset,temp1,x_train_fm1_label_subset,temp2 = train_test_split(x_train_fm1,\n",
    "                                                             y_train_one_hot_fm1, \n",
    "                                                             test_size=data_proportion, \n",
    "                                                             random_state=13)\n",
    "        \n",
    "    x_train_fm1_subset,x_valid_fm1_subset,x_train_fm1_label_subset,x_valid_fm1_label_subset = train_test_split(x_train_fm1_subset,\n",
    "                                                             x_train_fm1_label_subset, \n",
    "                                                             test_size=0.2, \n",
    "                                                             random_state=13)\n",
    "    \n",
    "    #for pre-trained initialisation\n",
    "    encode = encoder(input_img)\n",
    "    classifer = Model(input_img,fully_connected_layer(encode))\n",
    "    \n",
    "    for l1,l2 in zip(classifer.layers[:22],autoencoder.layers[0:22]):\n",
    "        l1.set_weights(l2.get_weights())\n",
    "        \n",
    "    for layer in classifer.layers[0:22]:\n",
    "        layer.trainable = False\n",
    "    classifer.compile(loss=keras.losses.categorical_crossentropy, optimizer=keras.optimizers.Adam(lr=learning_rate),metrics=['accuracy'])\n",
    "    classify_train = classifer.fit(x_train_fm1_subset, x_train_fm1_label_subset, batch_size=64,epochs=50,verbose=0, shuffle=True, callbacks=[early_stopping_monitor], validation_data=(x_valid_fm1_subset, x_valid_fm1_label_subset))\n",
    "    \n",
    "    classifer.save('models/pretrained_' + str(round((1 - data_proportion) * 100)) +'percent.h5')\n",
    "    \n",
    "    loss = classify_train.history['loss']\n",
    "    val_loss = classify_train.history['val_loss']\n",
    "    \n",
    "    optimal_loss = min(loss)\n",
    "    optimal_val_loss = min(val_loss)\n",
    "    \n",
    "    pretrained_loss.append(optimal_loss)\n",
    "    pretrained_val_loss.append(optimal_val_loss)\n",
    "    \n",
    "    pretrained_train_epoch.append(loss.index(optimal_loss))\n",
    "    pretrained_val_epoch.append(val_loss.index(optimal_val_loss))\n",
    "    \n",
    "    #for random initialisation\n",
    "    encode = encoder(input_img)\n",
    "    classifer = Model(input_img,fully_connected_layer(encode))\n",
    "    \n",
    "    for layer in classifer.layers[0:22]:\n",
    "        layer.trainable = True\n",
    "        \n",
    "    classifer.compile(loss=keras.losses.categorical_crossentropy, optimizer=keras.optimizers.Adam(lr=learning_rate),metrics=['accuracy'])\n",
    "    classify_train = classifer.fit(x_train_fm1_subset, x_train_fm1_label_subset, batch_size=64,epochs=50,verbose=0, shuffle=True, validation_data=(x_valid_fm1_subset, x_valid_fm1_label_subset))\n",
    "    \n",
    "    classifer.save('models/random_init_' + str(round((1 - data_proportion) * 100)) +'percent.h5')\n",
    "    \n",
    "    loss = classify_train.history['loss']\n",
    "    val_loss = classify_train.history['val_loss']\n",
    "    \n",
    "    optimal_loss = min(loss)\n",
    "    optimal_val_loss = min(val_loss)\n",
    "    \n",
    "    random_init_loss.append(optimal_loss)\n",
    "    random_init_val_loss.append(optimal_val_loss)\n",
    "    \n",
    "    random_init_train_epoch.append(loss.index(optimal_loss))\n",
    "    random_init_val_epoch.append(val_loss.index(optimal_val_loss))"
   ]
  },
  {
   "cell_type": "code",
   "execution_count": 113,
   "metadata": {},
   "outputs": [
    {
     "name": "stdout",
     "output_type": "stream",
     "text": [
      "20\n",
      "20\n",
      "20\n",
      "20\n"
     ]
    }
   ],
   "source": [
    "print(len(pretrained_loss))\n",
    "print(len(pretrained_val_loss))\n",
    "print(len(random_init_loss))\n",
    "print(len(random_init_val_loss))"
   ]
  },
  {
   "cell_type": "code",
   "execution_count": 116,
   "metadata": {},
   "outputs": [
    {
     "data": {
      "text/plain": [
       "[44,\n",
       " 31,\n",
       " 39,\n",
       " 23,\n",
       " 26,\n",
       " 22,\n",
       " 21,\n",
       " 22,\n",
       " 30,\n",
       " 28,\n",
       " 26,\n",
       " 24,\n",
       " 18,\n",
       " 20,\n",
       " 19,\n",
       " 24,\n",
       " 20,\n",
       " 27,\n",
       " 22,\n",
       " 18]"
      ]
     },
     "execution_count": 116,
     "metadata": {},
     "output_type": "execute_result"
    }
   ],
   "source": [
    "pretrained_train_epoch"
   ]
  },
  {
   "cell_type": "code",
   "execution_count": 114,
   "metadata": {},
   "outputs": [
    {
     "data": {
      "text/plain": [
       "str"
      ]
     },
     "execution_count": 114,
     "metadata": {},
     "output_type": "execute_result"
    }
   ],
   "source": [
    "x_values = [round((1 - i) * 100) for i in percentage]\n",
    "type(str(x_values[0]))"
   ]
  },
  {
   "cell_type": "code",
   "execution_count": 226,
   "metadata": {},
   "outputs": [
    {
     "name": "stdout",
     "output_type": "stream",
     "text": [
      "[5, 10, 15, 20, 25, 30, 35, 40, 45, 50, 55, 60, 65, 70, 75, 80, 85, 90, 95, 100]\n"
     ]
    },
    {
     "data": {
      "image/png": "[encoded data removed]",
      "text/plain": [
       "<Figure size 432x288 with 1 Axes>"
      ]
     },
     "metadata": {
      "needs_background": "light"
     },
     "output_type": "display_data"
    },
    {
     "data": {
      "text/plain": [
       "<Figure size 432x288 with 0 Axes>"
      ]
     },
     "metadata": {},
     "output_type": "display_data"
    }
   ],
   "source": [
    "# accuracy = classify_train.history['accuracy']\n",
    "# val_accuracy = classify_train.history['val_accuracy']\n",
    "# loss = classify_train.history['loss']\n",
    "# val_loss = classify_train.history['val_loss']\n",
    "x_values = [round((1 - i) * 100) for i in percentage]\n",
    "print(x_values)\n",
    "epochs = range(len(pretrained_loss))\n",
    "plt.plot(x_values, pretrained_loss, 'b', label='Training loss for pre-trained initialisation')\n",
    "plt.plot(x_values, pretrained_val_loss, 'b', color = 'green', label='Validation loss for pre-trained initialisation')\n",
    "plt.plot(x_values, random_init_loss, 'b', color='red',label='Training loss for random initialisation')\n",
    "plt.plot(x_values, random_init_val_loss, 'b', color='orange', label='Validation loss for random initialisation')\n",
    "plt.title('Training and validation loss')\n",
    "plt.xlabel(\"Data Percentage\")\n",
    "plt.ylabel(\"Loss\")\n",
    "plt.legend()\n",
    "plt.figure()\n",
    "plt.show()"
   ]
  },
  {
   "cell_type": "code",
   "execution_count": 227,
   "metadata": {},
   "outputs": [
    {
     "name": "stdout",
     "output_type": "stream",
     "text": [
      "[5, 10, 15, 20, 25, 30, 35, 40, 45, 50, 55, 60, 65, 70, 75, 80, 85, 90, 95, 100]\n"
     ]
    },
    {
     "data": {
      "image/png": "[encoded data removed]",
      "text/plain": [
       "<Figure size 432x288 with 1 Axes>"
      ]
     },
     "metadata": {
      "needs_background": "light"
     },
     "output_type": "display_data"
    },
    {
     "data": {
      "text/plain": [
       "<Figure size 432x288 with 0 Axes>"
      ]
     },
     "metadata": {},
     "output_type": "display_data"
    }
   ],
   "source": [
    "x_values = [round((1 - i) * 100) for i in percentage]\n",
    "print(x_values)\n",
    "plt.plot(x_values, pretrained_train_epoch, 'bo', color='blue', label='Number of epoch for train data for pre-trained  initialisation')\n",
    "plt.plot(x_values, pretrained_val_epoch, 'bo', color='green', label='Number of epoch for validation data for pre-trained initialisation')\n",
    "plt.plot(x_values, random_init_train_epoch, 'bo', color='red',label='Number of epoch for train data for random initialisation')\n",
    "plt.plot(x_values, random_init_val_epoch, 'bo', color='yellow', label='Number of epoch for validation data for random initialisation')\n",
    "plt.title('Number of epoch for each model')\n",
    "plt.xlabel(\"Data Percentage\")\n",
    "plt.ylabel(\"epoch\")\n",
    "plt.legend(bbox_to_anchor=(1.0,1.0))\n",
    "plt.figure()\n",
    "plt.show()"
   ]
  },
  {
   "cell_type": "markdown",
   "metadata": {},
   "source": [
    "# Question 5"
   ]
  },
  {
   "cell_type": "code",
   "execution_count": 199,
   "metadata": {},
   "outputs": [
    {
     "name": "stdout",
     "output_type": "stream",
     "text": [
      "0.029626259264169317\n",
      "0.03186394603076306\n"
     ]
    }
   ],
   "source": [
    "pretrained_optimal = min(pretrained_val_loss)\n",
    "random_optimal = min(random_init_val_loss)\n",
    "print(pretrained_optimal)\n",
    "print(random_optimal)"
   ]
  },
  {
   "cell_type": "code",
   "execution_count": 200,
   "metadata": {},
   "outputs": [
    {
     "name": "stdout",
     "output_type": "stream",
     "text": [
      "10\n",
      "10\n"
     ]
    }
   ],
   "source": [
    "optimal_percent_pretrained = pretrained_val_loss.index(pretrained_optimal)\n",
    "optimal_percent_random = random_init_val_loss.index(random_optimal)\n",
    "\n",
    "print(optimal_percent_pretrained)\n",
    "print(optimal_percent_random)"
   ]
  },
  {
   "cell_type": "code",
   "execution_count": 201,
   "metadata": {},
   "outputs": [
    {
     "data": {
      "text/plain": [
       "55"
      ]
     },
     "execution_count": 201,
     "metadata": {},
     "output_type": "execute_result"
    }
   ],
   "source": [
    "x_values[optimal_percent_pretrained]"
   ]
  },
  {
   "cell_type": "code",
   "execution_count": 202,
   "metadata": {},
   "outputs": [],
   "source": [
    "pretrained_model = load_model('models/pretrained_55percent.h5')"
   ]
  },
  {
   "cell_type": "code",
   "execution_count": 203,
   "metadata": {},
   "outputs": [
    {
     "name": "stdout",
     "output_type": "stream",
     "text": [
      "5000/5000 [==============================] - 0s 74us/sample - loss: 0.0424 - accuracy: 0.9866\n"
     ]
    }
   ],
   "source": [
    "test_eval = pretrained_model.evaluate(x_test_fm1, y_test_one_hot_fm1, batch_size =64, verbose=1)"
   ]
  },
  {
   "cell_type": "code",
   "execution_count": 204,
   "metadata": {},
   "outputs": [
    {
     "name": "stdout",
     "output_type": "stream",
     "text": [
      "Test loss: 0.04239443210916361\n",
      "Test accuracy: 0.9866\n"
     ]
    }
   ],
   "source": [
    "print('Test loss:', test_eval[0])\n",
    "print('Test accuracy:', test_eval[1])"
   ]
  },
  {
   "cell_type": "code",
   "execution_count": null,
   "metadata": {},
   "outputs": [],
   "source": []
  },
  {
   "cell_type": "markdown",
   "metadata": {},
   "source": [
    "# ===================================================="
   ]
  },
  {
   "cell_type": "code",
   "execution_count": 217,
   "metadata": {},
   "outputs": [],
   "source": [
    "#load fashion_mnist dataset from keras \n",
    "(x_train_combined,y_train_combined), (x_test_combined,y_test_combined) = fashion_mnist.load_data()"
   ]
  },
  {
   "cell_type": "code",
   "execution_count": 218,
   "metadata": {},
   "outputs": [
    {
     "name": "stdout",
     "output_type": "stream",
     "text": [
      "Training data shape :  (60000, 28, 28) (60000,)\n",
      "Testing data shape :  (10000, 28, 28) (10000,)\n"
     ]
    }
   ],
   "source": [
    "print('Training data shape : ', x_train_combined.shape, y_train_combined.shape)\n",
    "print('Testing data shape : ', x_test_combined.shape, y_test_combined.shape)"
   ]
  },
  {
   "cell_type": "code",
   "execution_count": 219,
   "metadata": {},
   "outputs": [],
   "source": [
    "def filter(xs, ys, lbls):\n",
    "    idxs = [i for (i, y) in enumerate(ys) if y in lbls]\n",
    "    xsprime = np.zeros((len(idxs), xs.shape[1], xs.shape[2]))\n",
    "    for (i, j) in enumerate(idxs):\n",
    "        xsprime[i] = xs[j]\n",
    "    ymap = {}\n",
    "    for (yprime, y) in enumerate(lbls):\n",
    "        ymap[y] = yprime\n",
    "    ysprime = np.array([ymap[y] for y in ys[idxs]])\n",
    "    return xsprime, ysprime\n",
    "\n",
    "fm1lbls = [0, 1, 4, 5, 8]\n",
    "x_train_fm1, y_train_fm1 = filter(x_train_combined, y_train_combined, fm1lbls)\n",
    "x_test_fm1, y_test_fm1 = filter(x_test_combined, y_test_combined, fm1lbls)\n",
    "\n",
    "fm1classes  = fm1lbls\n",
    "fm1nClasses = len(fm1classes)\n"
   ]
  },
  {
   "cell_type": "code",
   "execution_count": 220,
   "metadata": {},
   "outputs": [],
   "source": [
    "x_train_fm1 = x_train_fm1.reshape(-1, 28,28, 1)\n",
    "x_test_fm1 = x_test_fm1.reshape(-1, 28,28, 1)"
   ]
  },
  {
   "cell_type": "code",
   "execution_count": 221,
   "metadata": {},
   "outputs": [
    {
     "data": {
      "text/plain": [
       "(30000, 28, 28, 1)"
      ]
     },
     "execution_count": 221,
     "metadata": {},
     "output_type": "execute_result"
    }
   ],
   "source": [
    "# Convert data type from int8 to float32\n",
    "x_train_fm1 = x_train_fm1.astype('float32')\n",
    "x_test_fm1 = x_test_fm1.astype('float32')\n",
    "\n",
    "# Normalize the data: rescale the pixel values in range 0 - 1 inclusive for training purposes\n",
    "x_train_fm1 = x_train_fm1 / 255.\n",
    "x_test_fm1 = x_test_fm1 / 255.\n",
    "\n",
    "x_train_fm1.shape"
   ]
  },
  {
   "cell_type": "code",
   "execution_count": 222,
   "metadata": {
    "scrolled": true
   },
   "outputs": [
    {
     "name": "stdout",
     "output_type": "stream",
     "text": [
      "[[1. 0. 0. 0. 0.]\n",
      " [1. 0. 0. 0. 0.]\n",
      " [1. 0. 0. 0. 0.]\n",
      " ...\n",
      " [0. 1. 0. 0. 0.]\n",
      " [1. 0. 0. 0. 0.]\n",
      " [0. 0. 0. 1. 0.]]\n"
     ]
    }
   ],
   "source": [
    "y_train_one_hot_fm1 = to_categorical(y_train_fm1)\n",
    "y_test_one_hot_fm1 = to_categorical(y_test_fm1)\n",
    "print(y_train_one_hot_fm1)"
   ]
  },
  {
   "cell_type": "code",
   "execution_count": 223,
   "metadata": {},
   "outputs": [],
   "source": [
    "def fully_connected_layer(encoder):\n",
    "    flatten = Flatten()(encoder)\n",
    "    dense = Dense(128, activation='relu')(flatten)\n",
    "    dense = Dropout(0.3)(dense)\n",
    "    output = Dense(num_classes, activation='softmax')(dense)\n",
    "    return output"
   ]
  },
  {
   "cell_type": "code",
   "execution_count": 192,
   "metadata": {},
   "outputs": [
    {
     "name": "stdout",
     "output_type": "stream",
     "text": [
      "Train on 13200 samples, validate on 3300 samples\n",
      "Epoch 1/50\n",
      "13200/13200 [==============================] - 1s 112us/sample - loss: 0.4860 - accuracy: 0.8361 - val_loss: 0.1029 - val_accuracy: 0.9712\n",
      "Epoch 2/50\n",
      "13200/13200 [==============================] - 1s 60us/sample - loss: 0.1453 - accuracy: 0.9564 - val_loss: 0.0675 - val_accuracy: 0.9815\n",
      "Epoch 3/50\n",
      "13200/13200 [==============================] - 1s 60us/sample - loss: 0.1076 - accuracy: 0.9680 - val_loss: 0.0537 - val_accuracy: 0.9852\n",
      "Epoch 4/50\n",
      "13200/13200 [==============================] - 1s 58us/sample - loss: 0.0870 - accuracy: 0.9735 - val_loss: 0.0484 - val_accuracy: 0.9858\n",
      "Epoch 5/50\n",
      "13200/13200 [==============================] - 1s 59us/sample - loss: 0.0716 - accuracy: 0.9778 - val_loss: 0.0438 - val_accuracy: 0.9870\n",
      "Epoch 6/50\n",
      "13200/13200 [==============================] - 1s 60us/sample - loss: 0.0648 - accuracy: 0.9799 - val_loss: 0.0411 - val_accuracy: 0.9879\n",
      "Epoch 7/50\n",
      "13200/13200 [==============================] - 1s 57us/sample - loss: 0.0548 - accuracy: 0.9842 - val_loss: 0.0390 - val_accuracy: 0.9879\n",
      "Epoch 8/50\n",
      "13200/13200 [==============================] - 1s 59us/sample - loss: 0.0484 - accuracy: 0.9848 - val_loss: 0.0375 - val_accuracy: 0.9879\n",
      "Epoch 9/50\n",
      "13200/13200 [==============================] - 1s 60us/sample - loss: 0.0438 - accuracy: 0.9864 - val_loss: 0.0359 - val_accuracy: 0.9888\n",
      "Epoch 10/50\n",
      "13200/13200 [==============================] - 1s 58us/sample - loss: 0.0396 - accuracy: 0.9880 - val_loss: 0.0340 - val_accuracy: 0.9900\n",
      "Epoch 11/50\n",
      "13200/13200 [==============================] - 1s 59us/sample - loss: 0.0355 - accuracy: 0.9901 - val_loss: 0.0333 - val_accuracy: 0.9900\n",
      "Epoch 12/50\n",
      "13200/13200 [==============================] - 1s 59us/sample - loss: 0.0336 - accuracy: 0.9901 - val_loss: 0.0335 - val_accuracy: 0.9897\n",
      "Epoch 13/50\n",
      "13200/13200 [==============================] - 1s 58us/sample - loss: 0.0309 - accuracy: 0.9907 - val_loss: 0.0325 - val_accuracy: 0.9903\n",
      "Epoch 14/50\n",
      "13200/13200 [==============================] - 1s 59us/sample - loss: 0.0280 - accuracy: 0.9919 - val_loss: 0.0329 - val_accuracy: 0.9900\n",
      "Epoch 15/50\n",
      "13200/13200 [==============================] - 1s 60us/sample - loss: 0.0248 - accuracy: 0.9929 - val_loss: 0.0307 - val_accuracy: 0.9909\n",
      "Epoch 16/50\n",
      "13200/13200 [==============================] - 1s 58us/sample - loss: 0.0230 - accuracy: 0.9940 - val_loss: 0.0298 - val_accuracy: 0.9918\n",
      "Epoch 17/50\n",
      "13200/13200 [==============================] - 1s 58us/sample - loss: 0.0219 - accuracy: 0.9939 - val_loss: 0.0302 - val_accuracy: 0.9912\n",
      "Epoch 18/50\n",
      "13200/13200 [==============================] - 1s 59us/sample - loss: 0.0212 - accuracy: 0.9941 - val_loss: 0.0299 - val_accuracy: 0.9909\n",
      "Epoch 19/50\n",
      "13200/13200 [==============================] - 1s 58us/sample - loss: 0.0164 - accuracy: 0.9965 - val_loss: 0.0292 - val_accuracy: 0.9912\n",
      "Epoch 20/50\n",
      "13200/13200 [==============================] - 1s 58us/sample - loss: 0.0165 - accuracy: 0.9958 - val_loss: 0.0294 - val_accuracy: 0.9906\n",
      "Epoch 21/50\n",
      "13200/13200 [==============================] - 1s 60us/sample - loss: 0.0158 - accuracy: 0.9960 - val_loss: 0.0291 - val_accuracy: 0.9906\n",
      "Epoch 22/50\n",
      "13200/13200 [==============================] - 1s 58us/sample - loss: 0.0148 - accuracy: 0.9966 - val_loss: 0.0286 - val_accuracy: 0.9912\n",
      "Epoch 23/50\n",
      "13200/13200 [==============================] - 1s 58us/sample - loss: 0.0139 - accuracy: 0.9966 - val_loss: 0.0291 - val_accuracy: 0.9915\n",
      "Epoch 24/50\n",
      "13200/13200 [==============================] - 1s 59us/sample - loss: 0.0128 - accuracy: 0.9969 - val_loss: 0.0296 - val_accuracy: 0.9915\n",
      "Epoch 25/50\n",
      "13200/13200 [==============================] - 1s 59us/sample - loss: 0.0116 - accuracy: 0.9971 - val_loss: 0.0291 - val_accuracy: 0.9912\n",
      "Epoch 26/50\n",
      "13200/13200 [==============================] - 1s 59us/sample - loss: 0.0109 - accuracy: 0.9973 - val_loss: 0.0285 - val_accuracy: 0.9924\n",
      "Epoch 27/50\n",
      "13200/13200 [==============================] - 1s 59us/sample - loss: 0.0106 - accuracy: 0.9977 - val_loss: 0.0291 - val_accuracy: 0.9909\n",
      "Epoch 28/50\n",
      "13200/13200 [==============================] - 1s 59us/sample - loss: 0.0091 - accuracy: 0.9983 - val_loss: 0.0294 - val_accuracy: 0.9918\n",
      "Epoch 29/50\n",
      "13200/13200 [==============================] - 1s 67us/sample - loss: 0.0092 - accuracy: 0.9976 - val_loss: 0.0287 - val_accuracy: 0.9918\n",
      "Epoch 30/50\n",
      "13200/13200 [==============================] - 1s 60us/sample - loss: 0.0079 - accuracy: 0.9983 - val_loss: 0.0290 - val_accuracy: 0.9912\n",
      "Epoch 31/50\n",
      "12864/13200 [============================>.] - ETA: 0s - loss: 0.0076 - accuracy: 0.9986Restoring model weights from the end of the best epoch.\n",
      "13200/13200 [==============================] - 1s 60us/sample - loss: 0.0076 - accuracy: 0.9986 - val_loss: 0.0286 - val_accuracy: 0.9912\n",
      "Epoch 00031: early stopping\n"
     ]
    }
   ],
   "source": [
    "x_train_fm1_subset,temp1,x_train_fm1_label_subset,temp2 = train_test_split(x_train_fm1,\n",
    "                                                         y_train_one_hot_fm1, \n",
    "                                                         test_size=0.45, \n",
    "                                                         random_state=13)\n",
    "\n",
    "x_train_fm1_subset,x_valid_fm1_subset,x_train_fm1_label_subset,x_valid_fm1_label_subset = train_test_split(x_train_fm1_subset,\n",
    "                                                         x_train_fm1_label_subset, \n",
    "                                                         test_size=0.2, \n",
    "                                                         random_state=13)\n",
    "\n",
    "#for pre-trained initialisation\n",
    "encode = encoder(input_img)\n",
    "classifer = Model(input_img,fully_connected_layer(encode))\n",
    "\n",
    "for l1,l2 in zip(classifer.layers[:22],autoencoder.layers[0:22]):\n",
    "    l1.set_weights(l2.get_weights())\n",
    "\n",
    "for layer in classifer.layers[0:22]:\n",
    "    layer.trainable = False\n",
    "classifer.compile(loss=keras.losses.categorical_crossentropy, optimizer=keras.optimizers.Adam(lr=learning_rate),metrics=['accuracy'])\n",
    "classify_train = classifer.fit(x_train_fm1_subset, x_train_fm1_label_subset, batch_size=64,epochs=50,verbose=1, shuffle=True, callbacks=[early_stopping_monitor], validation_data=(x_valid_fm1_subset, x_valid_fm1_label_subset))\n",
    "\n",
    "\n"
   ]
  },
  {
   "cell_type": "code",
   "execution_count": null,
   "metadata": {},
   "outputs": [],
   "source": []
  },
  {
   "cell_type": "code",
   "execution_count": null,
   "metadata": {},
   "outputs": [],
   "source": []
  },
  {
   "cell_type": "code",
   "execution_count": 205,
   "metadata": {},
   "outputs": [],
   "source": [
    "random_init_model = pretrained_model = load_model('models/random_init_55percent.h5')"
   ]
  },
  {
   "cell_type": "code",
   "execution_count": 206,
   "metadata": {},
   "outputs": [
    {
     "name": "stdout",
     "output_type": "stream",
     "text": [
      "5000/5000 [==============================] - 0s 94us/sample - loss: 0.0575 - accuracy: 0.9858\n"
     ]
    }
   ],
   "source": [
    "test_eval = random_init_model.evaluate(x_test_fm1, y_test_one_hot_fm1, verbose=1)"
   ]
  },
  {
   "cell_type": "code",
   "execution_count": 207,
   "metadata": {},
   "outputs": [
    {
     "name": "stdout",
     "output_type": "stream",
     "text": [
      "Test loss: 0.057451721781492236\n",
      "Test accuracy: 0.9858\n"
     ]
    }
   ],
   "source": [
    "print('Test loss:', test_eval[0])\n",
    "print('Test accuracy:', test_eval[1])"
   ]
  },
  {
   "cell_type": "code",
   "execution_count": 224,
   "metadata": {},
   "outputs": [
    {
     "name": "stdout",
     "output_type": "stream",
     "text": [
      "Train on 13200 samples, validate on 3300 samples\n",
      "Epoch 1/50\n",
      "13200/13200 [==============================] - 3s 199us/sample - loss: 0.7492 - accuracy: 0.7306 - val_loss: 1.9224 - val_accuracy: 0.3215\n",
      "Epoch 2/50\n",
      "13200/13200 [==============================] - 2s 119us/sample - loss: 0.2905 - accuracy: 0.9052 - val_loss: 1.2289 - val_accuracy: 0.6342\n",
      "Epoch 3/50\n",
      "13200/13200 [==============================] - 2s 119us/sample - loss: 0.2114 - accuracy: 0.9319 - val_loss: 0.2177 - val_accuracy: 0.9261\n",
      "Epoch 4/50\n",
      "13200/13200 [==============================] - 2s 118us/sample - loss: 0.1731 - accuracy: 0.9433 - val_loss: 0.1133 - val_accuracy: 0.9652\n",
      "Epoch 5/50\n",
      "13200/13200 [==============================] - 2s 119us/sample - loss: 0.1541 - accuracy: 0.9498 - val_loss: 0.1000 - val_accuracy: 0.9679\n",
      "Epoch 6/50\n",
      "13200/13200 [==============================] - 2s 118us/sample - loss: 0.1354 - accuracy: 0.9577 - val_loss: 0.0857 - val_accuracy: 0.9721\n",
      "Epoch 7/50\n",
      "13200/13200 [==============================] - 2s 119us/sample - loss: 0.1256 - accuracy: 0.9605 - val_loss: 0.0768 - val_accuracy: 0.9755\n",
      "Epoch 8/50\n",
      "13200/13200 [==============================] - 2s 118us/sample - loss: 0.1220 - accuracy: 0.9609 - val_loss: 0.0794 - val_accuracy: 0.9742\n",
      "Epoch 9/50\n",
      "13200/13200 [==============================] - 2s 118us/sample - loss: 0.1059 - accuracy: 0.9669 - val_loss: 0.0723 - val_accuracy: 0.9761\n",
      "Epoch 10/50\n",
      "13200/13200 [==============================] - 2s 118us/sample - loss: 0.1010 - accuracy: 0.9686 - val_loss: 0.0635 - val_accuracy: 0.9797\n",
      "Epoch 11/50\n",
      "13200/13200 [==============================] - 2s 117us/sample - loss: 0.0969 - accuracy: 0.9689 - val_loss: 0.0637 - val_accuracy: 0.9788\n",
      "Epoch 12/50\n",
      "13200/13200 [==============================] - 2s 118us/sample - loss: 0.0903 - accuracy: 0.9719 - val_loss: 0.0615 - val_accuracy: 0.9803\n",
      "Epoch 13/50\n",
      "13200/13200 [==============================] - 2s 118us/sample - loss: 0.0871 - accuracy: 0.9723 - val_loss: 0.0623 - val_accuracy: 0.9797\n",
      "Epoch 14/50\n",
      "13200/13200 [==============================] - 2s 119us/sample - loss: 0.0810 - accuracy: 0.9739 - val_loss: 0.0566 - val_accuracy: 0.9824\n",
      "Epoch 15/50\n",
      "13200/13200 [==============================] - 2s 121us/sample - loss: 0.0791 - accuracy: 0.9739 - val_loss: 0.0557 - val_accuracy: 0.9833\n",
      "Epoch 16/50\n",
      "13200/13200 [==============================] - 2s 118us/sample - loss: 0.0736 - accuracy: 0.9765 - val_loss: 0.0571 - val_accuracy: 0.9827\n",
      "Epoch 17/50\n",
      "13200/13200 [==============================] - 2s 117us/sample - loss: 0.0726 - accuracy: 0.9784 - val_loss: 0.0565 - val_accuracy: 0.9827\n",
      "Epoch 18/50\n",
      "13200/13200 [==============================] - 2s 119us/sample - loss: 0.0649 - accuracy: 0.9792 - val_loss: 0.0499 - val_accuracy: 0.9839\n",
      "Epoch 19/50\n",
      "13200/13200 [==============================] - 2s 118us/sample - loss: 0.0643 - accuracy: 0.9792 - val_loss: 0.0488 - val_accuracy: 0.9848\n",
      "Epoch 20/50\n",
      "13200/13200 [==============================] - 2s 118us/sample - loss: 0.0639 - accuracy: 0.9805 - val_loss: 0.0465 - val_accuracy: 0.9858\n",
      "Epoch 21/50\n",
      "13200/13200 [==============================] - 2s 118us/sample - loss: 0.0578 - accuracy: 0.9817 - val_loss: 0.0517 - val_accuracy: 0.9858\n",
      "Epoch 22/50\n",
      "13200/13200 [==============================] - 2s 117us/sample - loss: 0.0535 - accuracy: 0.9828 - val_loss: 0.0475 - val_accuracy: 0.9861\n",
      "Epoch 23/50\n",
      "13200/13200 [==============================] - 2s 118us/sample - loss: 0.0576 - accuracy: 0.9816 - val_loss: 0.0481 - val_accuracy: 0.9855\n",
      "Epoch 24/50\n",
      "13200/13200 [==============================] - 2s 119us/sample - loss: 0.0510 - accuracy: 0.9825 - val_loss: 0.0451 - val_accuracy: 0.9861\n",
      "Epoch 25/50\n",
      "13200/13200 [==============================] - 2s 118us/sample - loss: 0.0511 - accuracy: 0.9831 - val_loss: 0.0441 - val_accuracy: 0.9861\n",
      "Epoch 26/50\n",
      "13200/13200 [==============================] - 2s 118us/sample - loss: 0.0485 - accuracy: 0.9849 - val_loss: 0.0443 - val_accuracy: 0.9861\n",
      "Epoch 27/50\n",
      "13200/13200 [==============================] - 2s 118us/sample - loss: 0.0512 - accuracy: 0.9832 - val_loss: 0.0403 - val_accuracy: 0.9867\n",
      "Epoch 28/50\n",
      "13200/13200 [==============================] - 2s 118us/sample - loss: 0.0450 - accuracy: 0.9862 - val_loss: 0.0393 - val_accuracy: 0.9882\n",
      "Epoch 29/50\n",
      "13200/13200 [==============================] - 2s 117us/sample - loss: 0.0448 - accuracy: 0.9856 - val_loss: 0.0411 - val_accuracy: 0.9873\n",
      "Epoch 30/50\n",
      "13200/13200 [==============================] - 2s 118us/sample - loss: 0.0416 - accuracy: 0.9855 - val_loss: 0.0390 - val_accuracy: 0.9879\n",
      "Epoch 31/50\n",
      "13200/13200 [==============================] - 2s 117us/sample - loss: 0.0380 - accuracy: 0.9885 - val_loss: 0.0396 - val_accuracy: 0.9882\n",
      "Epoch 32/50\n",
      "13200/13200 [==============================] - 2s 119us/sample - loss: 0.0436 - accuracy: 0.9861 - val_loss: 0.0390 - val_accuracy: 0.9885\n",
      "Epoch 33/50\n",
      "13200/13200 [==============================] - 2s 117us/sample - loss: 0.0372 - accuracy: 0.9865 - val_loss: 0.0426 - val_accuracy: 0.9873\n",
      "Epoch 34/50\n",
      "13200/13200 [==============================] - 2s 118us/sample - loss: 0.0375 - accuracy: 0.9878 - val_loss: 0.0389 - val_accuracy: 0.9876\n",
      "Epoch 35/50\n",
      "13200/13200 [==============================] - 2s 117us/sample - loss: 0.0357 - accuracy: 0.9876 - val_loss: 0.0431 - val_accuracy: 0.9882\n",
      "Epoch 36/50\n",
      "13200/13200 [==============================] - 2s 118us/sample - loss: 0.0354 - accuracy: 0.9878 - val_loss: 0.0381 - val_accuracy: 0.9897\n",
      "Epoch 37/50\n",
      "13200/13200 [==============================] - 2s 118us/sample - loss: 0.0338 - accuracy: 0.9892 - val_loss: 0.0422 - val_accuracy: 0.9891\n",
      "Epoch 38/50\n",
      "13200/13200 [==============================] - 2s 119us/sample - loss: 0.0366 - accuracy: 0.9883 - val_loss: 0.0362 - val_accuracy: 0.9888\n",
      "Epoch 39/50\n",
      "13200/13200 [==============================] - 2s 117us/sample - loss: 0.0311 - accuracy: 0.9906 - val_loss: 0.0392 - val_accuracy: 0.9888\n",
      "Epoch 40/50\n",
      "13200/13200 [==============================] - 2s 118us/sample - loss: 0.0305 - accuracy: 0.9893 - val_loss: 0.0375 - val_accuracy: 0.9891\n",
      "Epoch 41/50\n",
      "13200/13200 [==============================] - 2s 117us/sample - loss: 0.0310 - accuracy: 0.9896 - val_loss: 0.0391 - val_accuracy: 0.9894\n",
      "Epoch 42/50\n",
      "13200/13200 [==============================] - 2s 120us/sample - loss: 0.0303 - accuracy: 0.9898 - val_loss: 0.0380 - val_accuracy: 0.9894\n",
      "Epoch 43/50\n",
      "12736/13200 [===========================>..] - ETA: 0s - loss: 0.0290 - accuracy: 0.9899Restoring model weights from the end of the best epoch.\n",
      "13200/13200 [==============================] - 2s 123us/sample - loss: 0.0294 - accuracy: 0.9898 - val_loss: 0.0395 - val_accuracy: 0.9885\n",
      "Epoch 00043: early stopping\n"
     ]
    }
   ],
   "source": [
    "x_train_fm1_subset,temp1,x_train_fm1_label_subset,temp2 = train_test_split(x_train_fm1,\n",
    "                                                         y_train_one_hot_fm1, \n",
    "                                                         test_size=0.45, \n",
    "                                                         random_state=13)\n",
    "\n",
    "x_train_fm1_subset,x_valid_fm1_subset,x_train_fm1_label_subset,x_valid_fm1_label_subset = train_test_split(x_train_fm1_subset,\n",
    "                                                         x_train_fm1_label_subset, \n",
    "                                                         test_size=0.2, \n",
    "                                                         random_state=13)\n",
    "\n",
    "#for random initialisation\n",
    "encode = encoder(input_img)\n",
    "classifer = Model(input_img,fully_connected_layer(encode))\n",
    "\n",
    "for layer in classifer.layers[0:22]:\n",
    "    layer.trainable = True\n",
    "\n",
    "classifer.compile(loss=keras.losses.categorical_crossentropy, optimizer=keras.optimizers.Adam(lr=learning_rate),metrics=['accuracy'])\n",
    "classify_train = classifer.fit(x_train_fm1_subset, x_train_fm1_label_subset, batch_size=64,epochs=50,verbose=1, shuffle=True, callbacks=[early_stopping_monitor], validation_data=(x_valid_fm1_subset, x_valid_fm1_label_subset))"
   ]
  },
  {
   "cell_type": "code",
   "execution_count": null,
   "metadata": {},
   "outputs": [],
   "source": []
  }
 ],
 "metadata": {
  "kernelspec": {
   "display_name": "Python 3.7 (tensorflow)",
   "language": "python",
   "name": "tensorflow"
  },
  "language_info": {
   "codemirror_mode": {
    "name": "ipython",
    "version": 3
   },
   "file_extension": ".py",
   "mimetype": "text/x-python",
   "name": "python",
   "nbconvert_exporter": "python",
   "pygments_lexer": "ipython3",
   "version": "3.7.9"
  }
 },
 "nbformat": 4,
 "nbformat_minor": 4
}
